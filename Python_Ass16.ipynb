{
  "nbformat": 4,
  "nbformat_minor": 0,
  "metadata": {
    "colab": {
      "provenance": [],
      "collapsed_sections": []
    },
    "kernelspec": {
      "name": "python3",
      "display_name": "Python 3"
    },
    "language_info": {
      "name": "python"
    }
  },
  "cells": [
    {
      "cell_type": "markdown",
      "source": [
        "Q1.Python Program for Cycle Sort"
      ],
      "metadata": {
        "id": "G8eWy2_gK0GG"
      }
    },
    {
      "cell_type": "code",
      "execution_count": 1,
      "metadata": {
        "colab": {
          "base_uri": "https://localhost:8080/"
        },
        "id": "Qo_3bEUZKyMp",
        "outputId": "4c240322-f19b-43ba-d7f7-7f4c50a753ce"
      },
      "outputs": [
        {
          "output_type": "stream",
          "name": "stdout",
          "text": [
            "The sorted array is:  [1, 2, 3, 4, 5]\n"
          ]
        }
      ],
      "source": [
        "def cycleSort(array):\n",
        "  write = 0\n",
        "   \n",
        "  for cycle in range(0, len(array) - 1):\n",
        "    ele = array[cycle]\n",
        "     \n",
        "    position = cycle\n",
        "    for i in range(cycle + 1, len(array)):\n",
        "      if array[i] < ele:\n",
        "        position += 1\n",
        "     \n",
        "    if position == cycle:\n",
        "      continue\n",
        "     \n",
        "    while ele == array[position]:\n",
        "      position += 1\n",
        "    array[position], ele = ele, array[position]\n",
        "    write += 1\n",
        "     \n",
        "    while position != cycle:\n",
        "       \n",
        "      position = cycle\n",
        "      for a in range(cycle + 1, len(array)):\n",
        "        if array[a] < ele:\n",
        "          position += 1\n",
        "       \n",
        "      while ele == array[position]:\n",
        "        position += 1\n",
        "      array[position], ele = ele, array[position]\n",
        "      write += 1\n",
        "   \n",
        "  return write\n",
        "\n",
        "array = [2, 4, 5, 1, 3]\n",
        "n = len(array)\n",
        "cycleSort(array)\n",
        "print(\"The sorted array is: \",array)\n"
      ]
    },
    {
      "cell_type": "markdown",
      "source": [
        "Q2.Python Program for Stooge Sort"
      ],
      "metadata": {
        "id": "4S5SwUb6Lcjs"
      }
    },
    {
      "cell_type": "code",
      "source": [
        "def stoogesort(arr, l, h):\n",
        "   if l >= h:\n",
        "      return\n",
        "   if arr[l]>arr[h]:\n",
        "      t = arr[l]\n",
        "      arr[l] = arr[h]\n",
        "      arr[h] = t\n",
        "\n",
        "   if h-l+1 > 2:\n",
        "      t = (int)((h-l+1)/3)\n",
        "      stoogesort(arr, l, (h-t))\n",
        "      stoogesort(arr, l+t, (h))\n",
        "      stoogesort(arr, l, (h-t))\n",
        "\n",
        "arr = [1,4,2,3,6,5,8,7]\n",
        "n = len(arr)\n",
        "stoogesort(arr, 0, n-1)\n",
        "print (\"Sorted sequence is:\")\n",
        "for i in range(0, n):\n",
        "   print(arr[i], end = \" \")"
      ],
      "metadata": {
        "colab": {
          "base_uri": "https://localhost:8080/"
        },
        "id": "EIfVqrKvLoqL",
        "outputId": "b3e27838-0270-4509-b0b7-51643e728eed"
      },
      "execution_count": 4,
      "outputs": [
        {
          "output_type": "stream",
          "name": "stdout",
          "text": [
            "Sorted sequence is:\n",
            "1 2 3 4 5 6 7 8 "
          ]
        }
      ]
    },
    {
      "cell_type": "markdown",
      "source": [
        "Q3.Python Program to print the pattern ‘G’"
      ],
      "metadata": {
        "id": "iVVKLtpoNTXv"
      }
    },
    {
      "cell_type": "code",
      "source": [
        "def Pattern(line):\n",
        "\tpat=\"\"\n",
        "\tfor i in range(0,line):\n",
        "\t\tfor j in range(0,line):\t\n",
        "\t\t\tif ((j == 1 and i != 0 and i != line-1) or ((i == 0 or\n",
        "\t\t\t\ti == line-1) and j > 1 and j < line-2) or (i == ((line-1)/2)\n",
        "\t\t\t\tand j > line-5 and j < line-1) or (j == line-2 and\n",
        "\t\t\t\ti != 0 and i != line-1 and i >=((line-1)/2))):\n",
        "\t\t\t\tpat=pat+\"*\"\n",
        "\t\t\telse:\t\n",
        "\t\t\t\tpat=pat+\" \"\n",
        "\t\tpat=pat+\"\\n\"\n",
        "\treturn pat\n",
        "\n",
        "line = 7\n",
        "print(Pattern(line))\n"
      ],
      "metadata": {
        "colab": {
          "base_uri": "https://localhost:8080/"
        },
        "id": "gkiM7W-UNkz6",
        "outputId": "1d678344-2368-4084-c091-b24d2c1ab296"
      },
      "execution_count": 5,
      "outputs": [
        {
          "output_type": "stream",
          "name": "stdout",
          "text": [
            "  ***  \n",
            " *     \n",
            " *     \n",
            " * *** \n",
            " *   * \n",
            " *   * \n",
            "  ***  \n",
            "\n"
          ]
        }
      ]
    },
    {
      "cell_type": "markdown",
      "source": [
        "Q4.Python Program to print an Inverted Star Pattern"
      ],
      "metadata": {
        "id": "8CzcM7zPNtVP"
      }
    },
    {
      "cell_type": "code",
      "source": [
        "rows = int(input(\"Enter the number of rows: \"))  \n",
        " \n",
        "for a in range(rows + 1, 0, -1):    \n",
        "    for b in range(0, a - 1):  \n",
        "        print(\"*\", end=' ')  \n",
        "    print(\" \")"
      ],
      "metadata": {
        "colab": {
          "base_uri": "https://localhost:8080/"
        },
        "id": "KLvVY8_8NwI0",
        "outputId": "4fc7222e-a967-4186-c46f-9f73e0b0d3f9"
      },
      "execution_count": 6,
      "outputs": [
        {
          "output_type": "stream",
          "name": "stdout",
          "text": [
            "Enter the number of rows: 11\n",
            "* * * * * * * * * * *  \n",
            "* * * * * * * * * *  \n",
            "* * * * * * * * *  \n",
            "* * * * * * * *  \n",
            "* * * * * * *  \n",
            "* * * * * *  \n",
            "* * * * *  \n",
            "* * * *  \n",
            "* * *  \n",
            "* *  \n",
            "*  \n",
            " \n"
          ]
        }
      ]
    },
    {
      "cell_type": "markdown",
      "source": [
        "Q5.Python Program to print double sided stair-case pattern"
      ],
      "metadata": {
        "id": "3Lw_iNfeN8r2"
      }
    },
    {
      "cell_type": "code",
      "source": [
        "def pattern(n):\n",
        "    for a in range(1,n+1):\n",
        "        c =a + 1 if(a % 2 != 0) else a\n",
        "        for b in range(c,n):\n",
        "            if b>=c:\n",
        "                print(end=\"  \")\n",
        "        for d in range(0,c):\n",
        "            if d == c - 1:\n",
        "                print(\" * \")\n",
        "            else:\n",
        "                print(\" * \", end = \" \")\n",
        "n = int(input(\"Enter the size:\"))\n",
        "if n<10:\n",
        "    print(\"Enter range \")\n",
        "else:\n",
        "    pattern(n)"
      ],
      "metadata": {
        "colab": {
          "base_uri": "https://localhost:8080/"
        },
        "id": "9i-nFZXSOAP5",
        "outputId": "900d9765-e54a-48c8-ae7f-fbe867c0a5e8"
      },
      "execution_count": 7,
      "outputs": [
        {
          "output_type": "stream",
          "name": "stdout",
          "text": [
            "Enter the size:14\n",
            "                         *   * \n",
            "                         *   * \n",
            "                     *   *   *   * \n",
            "                     *   *   *   * \n",
            "                 *   *   *   *   *   * \n",
            "                 *   *   *   *   *   * \n",
            "             *   *   *   *   *   *   *   * \n",
            "             *   *   *   *   *   *   *   * \n",
            "         *   *   *   *   *   *   *   *   *   * \n",
            "         *   *   *   *   *   *   *   *   *   * \n",
            "     *   *   *   *   *   *   *   *   *   *   *   * \n",
            "     *   *   *   *   *   *   *   *   *   *   *   * \n",
            " *   *   *   *   *   *   *   *   *   *   *   *   *   * \n",
            " *   *   *   *   *   *   *   *   *   *   *   *   *   * \n"
          ]
        }
      ]
    },
    {
      "cell_type": "markdown",
      "source": [
        "Q6.Python Program to print with your own font"
      ],
      "metadata": {
        "id": "D0CWy8L5OVkf"
      }
    },
    {
      "cell_type": "code",
      "source": [
        "name = input(\"Enter your name: \\n\\n\")\n",
        "\n",
        "length = len(name)\n",
        "l = \"\"\n",
        "\n",
        "for x in range(0, length):\n",
        "\tc = name[x]\n",
        "\tc = c.upper()\n",
        "\t\n",
        "\tif (c == \"A\"):\n",
        "\t\tprint(\"..######..\\n..#....#..\\n..######..\", end = \" \")\n",
        "\t\tprint(\"\\n..#....#..\\n..#....#..\\n\\n\")\n",
        "\t\t\n",
        "\telif (c == \"B\"):\n",
        "\t\tprint(\"..######..\\n..#....#..\\n..#####...\", end = \" \")\n",
        "\t\tprint(\"\\n..#....#..\\n..######..\\n\\n\")\n",
        "\t\t\n",
        "\telif (c == \"C\"):\n",
        "\t\tprint(\"..######..\\n..#.......\\n..#.......\", end = \" \")\n",
        "\t\tprint(\"\\n..#.......\\n..######..\\n\\n\")\n",
        "\t\t\n",
        "\telif (c == \"D\"):\n",
        "\t\tprint(\"..#####...\\n..#....#..\\n..#....#..\", end = \" \")\n",
        "\t\tprint(\"\\n..#....#..\\n..#####...\\n\\n\")\n",
        "\t\t\n",
        "\telif (c == \"E\"):\n",
        "\t\tprint(\"..######..\\n..#.......\\n..#####...\", end = \" \")\n",
        "\t\tprint(\"\\n..#.......\\n..######..\\n\\n\")\n",
        "\t\t\n",
        "\telif (c == \"F\"):\n",
        "\t\tprint(\"..######..\\n..#.......\\n..#####...\", end = \" \")\n",
        "\t\tprint(\"\\n..#.......\\n..#.......\\n\\n\")\n",
        "\t\t\n",
        "\telif (c == \"G\"):\n",
        "\t\tprint(\"..######..\\n..#.......\\n..#.####..\", end = \" \")\n",
        "\t\tprint(\"\\n..#....#..\\n..#####...\\n\\n\")\n",
        "\t\t\n",
        "\telif (c == \"H\"):\n",
        "\t\tprint(\"..#....#..\\n..#....#..\\n..######..\", end = \" \")\n",
        "\t\tprint(\"\\n..#....#..\\n..#....#..\\n\\n\")\n",
        "\t\t\n",
        "\telif (c == \"I\"):\n",
        "\t\tprint(\"..######..\\n....##....\\n....##....\", end = \" \")\n",
        "\t\tprint(\"\\n....##....\\n..######..\\n\\n\")\n",
        "\t\t\n",
        "\telif (c == \"J\"):\n",
        "\t\tprint(\"..######..\\n....##....\\n....##....\", end = \" \")\n",
        "\t\tprint(\"\\n..#.##....\\n..####....\\n\\n\")\n",
        "\t\t\n",
        "\telif (c == \"K\"):\n",
        "\t\tprint(\"..#...#...\\n..#..#....\\n..##......\", end = \" \")\n",
        "\t\tprint(\"\\n..#..#....\\n..#...#...\\n\\n\")\n",
        "\t\t\n",
        "\telif (c == \"L\"):\n",
        "\t\tprint(\"..#.......\\n..#.......\\n..#.......\", end = \" \")\n",
        "\t\tprint(\"\\n..#.......\\n..######..\\n\\n\")\n",
        "\t\t\n",
        "\telif (c == \"M\"):\n",
        "\t\tprint(\"..#....#..\\n..##..##..\\n..#.##.#..\", end = \" \")\n",
        "\t\tprint(\"\\n..#....#..\\n..#....#..\\n\\n\")\n",
        "\t\t\n",
        "\telif (c == \"N\"):\n",
        "\t\tprint(\"..#....#..\\n..##...#..\\n..#.#..#..\", end = \" \")\n",
        "\t\tprint(\"\\n..#..#.#..\\n..#...##..\\n\\n\")\n",
        "\t\t\n",
        "\telif (c == \"O\"):\n",
        "\t\tprint(\"..######..\\n..#....#..\\n..#....#..\", end = \" \")\n",
        "\t\tprint(\"\\n..#....#..\\n..######..\\n\\n\")\n",
        "\t\t\n",
        "\telif (c == \"P\"):\n",
        "\t\tprint(\"..######..\\n..#....#..\\n..######..\", end = \" \")\n",
        "\t\tprint(\"\\n..#.......\\n..#.......\\n\\n\")\n",
        "\t\t\n",
        "\telif (c == \"Q\"):\n",
        "\t\tprint(\"..######..\\n..#....#..\\n..#.#..#..\", end = \" \")\n",
        "\t\tprint(\"\\n..#..#.#..\\n..######..\\n\\n\")\n",
        "\t\t\n",
        "\telif (c == \"R\"):\n",
        "\t\tprint(\"..######..\\n..#....#..\\n..#.##...\", end = \" \")\n",
        "\t\tprint(\"\\n..#...#...\\n..#....#..\\n\\n\")\n",
        "\t\t\n",
        "\telif (c == \"S\"):\n",
        "\t\tprint(\"..######..\\n..#.......\\n..######..\", end = \" \")\n",
        "\t\tprint(\"\\n.......#..\\n..######..\\n\\n\")\n",
        "\t\t\n",
        "\telif (c == \"T\"):\n",
        "\t\tprint(\"..######..\\n....##....\\n....##....\", end = \" \")\n",
        "\t\tprint(\"\\n....##....\\n....##....\\n\\n\")\n",
        "\t\t\n",
        "\telif (c == \"U\"):\n",
        "\t\tprint(\"..#....#..\\n..#....#..\\n..#....#..\", end = \" \")\n",
        "\t\tprint(\"\\n..#....#..\\n..######..\\n\\n\")\n",
        "\t\t\n",
        "\telif (c == \"V\"):\n",
        "\t\tprint(\"..#....#..\\n..#....#..\\n..#....#..\", end = \" \")\n",
        "\t\tprint(\"\\n...#..#...\\n....##....\\n\\n\")\n",
        "\t\t\n",
        "\telif (c == \"W\"):\n",
        "\t\tprint(\"..#....#..\\n..#....#..\\n..#.##.#..\", end = \" \")\n",
        "\t\tprint(\"\\n..##..##..\\n..#....#..\\n\\n\")\n",
        "\t\t\n",
        "\telif (c == \"X\"):\n",
        "\t\tprint(\"..#....#..\\n...#..#...\\n....##....\", end = \" \")\n",
        "\t\tprint(\"\\n...#..#...\\n..#....#..\\n\\n\")\n",
        "\t\t\n",
        "\telif (c == \"Y\"):\n",
        "\t\tprint(\"..#....#..\\n...#..#...\\n....##....\", end = \" \")\n",
        "\t\tprint(\"\\n....##....\\n....##....\\n\\n\")\n",
        "\t\t\n",
        "\telif (c == \"Z\"):\n",
        "\t\tprint(\"..######..\\n......#...\\n.....#....\", end = \" \")\n",
        "\t\tprint(\"\\n....#.....\\n..######..\\n\\n\")\n",
        "\t\t\n",
        "\telif (c == \" \"):\n",
        "\t\tprint(\"..........\\n..........\\n..........\", end = \" \")\n",
        "\t\tprint(\"\\n..........\\n\\n\")\n",
        "\t\t\n",
        "\telif (c == \".\"):\n",
        "\t\tprint(\"----..----\\n\\n\")\n"
      ],
      "metadata": {
        "colab": {
          "base_uri": "https://localhost:8080/"
        },
        "id": "ZxyDljaBOYam",
        "outputId": "13f3509f-6df2-41cd-9356-40a65c778a30"
      },
      "execution_count": 8,
      "outputs": [
        {
          "output_type": "stream",
          "name": "stdout",
          "text": [
            "Enter your name: \n",
            "\n",
            "omkar\n",
            "..######..\n",
            "..#....#..\n",
            "..#....#.. \n",
            "..#....#..\n",
            "..######..\n",
            "\n",
            "\n",
            "..#....#..\n",
            "..##..##..\n",
            "..#.##.#.. \n",
            "..#....#..\n",
            "..#....#..\n",
            "\n",
            "\n",
            "..#...#...\n",
            "..#..#....\n",
            "..##...... \n",
            "..#..#....\n",
            "..#...#...\n",
            "\n",
            "\n",
            "..######..\n",
            "..#....#..\n",
            "..######.. \n",
            "..#....#..\n",
            "..#....#..\n",
            "\n",
            "\n",
            "..######..\n",
            "..#....#..\n",
            "..#.##... \n",
            "..#...#...\n",
            "..#....#..\n",
            "\n",
            "\n"
          ]
        }
      ]
    },
    {
      "cell_type": "markdown",
      "source": [
        "Q7.Get Current Date and Time using Python"
      ],
      "metadata": {
        "id": "86RwDMTbO551"
      }
    },
    {
      "cell_type": "code",
      "source": [
        "import datetime\n",
        "now = datetime.datetime.now()\n",
        "print (\"Current date and time : \")\n",
        "print (now.strftime(\"%Y-%m-%d %H:%M:%S\"))\n"
      ],
      "metadata": {
        "colab": {
          "base_uri": "https://localhost:8080/"
        },
        "id": "LVHgKDcoO9FM",
        "outputId": "78bf7075-0a36-4cba-fed5-de134421e99a"
      },
      "execution_count": 17,
      "outputs": [
        {
          "output_type": "stream",
          "name": "stdout",
          "text": [
            "Current date and time : \n",
            "2022-10-05 17:49:25\n"
          ]
        }
      ]
    },
    {
      "cell_type": "markdown",
      "source": [
        "Q8.Python | Find yesterday’s, today’s and tomorrow’s date"
      ],
      "metadata": {
        "id": "hCy0PEq4RE12"
      }
    },
    {
      "cell_type": "code",
      "source": [
        "from datetime import datetime, timedelta\n",
        "\n",
        "presentday = datetime.now() \n",
        "\n",
        "yesterday = presentday - timedelta(1)\n",
        "\n",
        "tomorrow = presentday + timedelta(1)\n",
        "\n",
        "print(\"Yesterday = \", yesterday.strftime('%d-%m-%Y'))\n",
        "print(\"Today = \", presentday.strftime('%d-%m-%Y'))\n",
        "print(\"Tomorrow = \", tomorrow.strftime('%d-%m-%Y'))\n"
      ],
      "metadata": {
        "colab": {
          "base_uri": "https://localhost:8080/"
        },
        "id": "mBdoCKgzRCyk",
        "outputId": "69281e6f-6059-47af-d194-6098e8c1f746"
      },
      "execution_count": 18,
      "outputs": [
        {
          "output_type": "stream",
          "name": "stdout",
          "text": [
            "Yesterday =  04-10-2022\n",
            "Today =  05-10-2022\n",
            "Tomorrow =  06-10-2022\n"
          ]
        }
      ]
    },
    {
      "cell_type": "markdown",
      "source": [
        "Q9.Python program to convert time from 12 hour to 24 hour format"
      ],
      "metadata": {
        "id": "T7NYt1-NRcxo"
      }
    },
    {
      "cell_type": "code",
      "source": [
        "def convert(string):\n",
        "\n",
        "      if string[-2:] == \"AM\" and string[:2] == \"12\":\n",
        "         return \"00\" + string[2:-2]\n",
        "\n",
        "      elif string[-2:] == \"AM\":\n",
        "         return string[:-2]\n",
        "\n",
        "      elif string[-2:] == \"PM\" and string[:2] == \"12\":\n",
        "         return string[:-2]\n",
        "        \n",
        "      else:\n",
        "          return str(int(string[:2]) + 12) + string[2:8]\n",
        "\n",
        "time=\"05:46:42PM\"\n",
        "print(\"12-hour Format time:: \", time)\n",
        "print(\"24-hour Format time ::\",convert(time))"
      ],
      "metadata": {
        "colab": {
          "base_uri": "https://localhost:8080/"
        },
        "id": "pi9XBfp2Rfma",
        "outputId": "3cea8818-7be7-421e-c702-d38d7cd6a728"
      },
      "execution_count": 20,
      "outputs": [
        {
          "output_type": "stream",
          "name": "stdout",
          "text": [
            "12-hour Format time::  05:46:42PM\n",
            "24-hour Format time :: 17:46:42\n"
          ]
        }
      ]
    }
  ]
}