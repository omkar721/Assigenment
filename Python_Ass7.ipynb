{
  "nbformat": 4,
  "nbformat_minor": 0,
  "metadata": {
    "colab": {
      "name": "Python_Ass7.ipynb",
      "provenance": []
    },
    "kernelspec": {
      "name": "python3",
      "display_name": "Python 3"
    },
    "language_info": {
      "name": "python"
    }
  },
  "cells": [
    {
      "cell_type": "markdown",
      "source": [
        "Q1. Reverse words in a given String in Python"
      ],
      "metadata": {
        "id": "va8Mvi5ncn9p"
      }
    },
    {
      "cell_type": "code",
      "source": [
        "My_name=\"Omkar is name My\"\n",
        "\n",
        "s=My_name.split()[::-1]\n",
        "A=\" \"\n",
        "New_string =[]\n",
        "\n",
        "for i in My_name:\n",
        "    New_string.append(i)\n",
        "print(A.join(s))"
      ],
      "metadata": {
        "colab": {
          "base_uri": "https://localhost:8080/"
        },
        "id": "2JoJKWkJcqrC",
        "outputId": "262aa964-5fa7-44ad-f66f-39f5af171502"
      },
      "execution_count": null,
      "outputs": [
        {
          "output_type": "stream",
          "name": "stdout",
          "text": [
            "My name is Omkar\n"
          ]
        }
      ]
    },
    {
      "cell_type": "markdown",
      "source": [
        "Q2. Ways to remove i’th character from string in Python"
      ],
      "metadata": {
        "id": "zrm5T3o3hJQX"
      }
    },
    {
      "cell_type": "code",
      "source": [
        "string_1 =\"HelloWorld\"\n",
        "\n",
        "print(\"The original string is\",string_1)\n",
        "\n",
        "New_string=string_1[:4] + string_1[5:]\n",
        "\n",
        "print(\"The new string is \",New_string)"
      ],
      "metadata": {
        "id": "Q66wVjrHhOQe"
      },
      "execution_count": null,
      "outputs": []
    },
    {
      "cell_type": "markdown",
      "source": [
        "Q3. Python | Check if a Substring is Present in a Given String"
      ],
      "metadata": {
        "id": "wQKYYXD1mt_I"
      }
    },
    {
      "cell_type": "code",
      "source": [
        "string=\"My name is omkar\"\n",
        "substring=\"omkar\"\n",
        "\n",
        "if substring in string:\n",
        "    print(\"The substring is present \")\n",
        "\n",
        "else:\n",
        "    print(\"The substring is absent\")"
      ],
      "metadata": {
        "id": "bAZkJl5XmyZv"
      },
      "execution_count": null,
      "outputs": []
    },
    {
      "cell_type": "markdown",
      "source": [
        "Q4.Python – Words Frequency in String Shorthands"
      ],
      "metadata": {
        "id": "0wDOFnPWn-V2"
      }
    },
    {
      "cell_type": "code",
      "source": [
        "Text=\"he cannot come with you, he have to go to office\"\n",
        "frequency={key:Text.count(key) for key in Text.split()}\n",
        "\n",
        "print(\"The words frquency in string is\",frequency)"
      ],
      "metadata": {
        "id": "aHIb2mGfoCFS"
      },
      "execution_count": null,
      "outputs": []
    },
    {
      "cell_type": "markdown",
      "source": [
        "Q5. Python – Convert Snake case to Pascal case"
      ],
      "metadata": {
        "id": "XoU_dSUw06Pt"
      }
    },
    {
      "cell_type": "code",
      "source": [
        "string =\"Find_me_the_key\"\n",
        "\n",
        "New_string=string.replace(\"_\",\" \")\n",
        "print(\"The old string is :\",string)\n",
        "print(\"The new string is:\",New_string)"
      ],
      "metadata": {
        "id": "rciB_zpI0-DG"
      },
      "execution_count": null,
      "outputs": []
    },
    {
      "cell_type": "markdown",
      "source": [
        "Q6. Find length of a string in python (4 ways)"
      ],
      "metadata": {
        "id": "12j4dl8pIwI7"
      }
    },
    {
      "cell_type": "code",
      "source": [
        "string =\"Hello World\"\n",
        "\n",
        "#1st way\n",
        "print(len(string))\n",
        "\n",
        "\n"
      ],
      "metadata": {
        "colab": {
          "base_uri": "https://localhost:8080/"
        },
        "id": "rE2onUevI2Rv",
        "outputId": "ef2a75f2-27c8-4a97-d6c3-627226c058bc"
      },
      "execution_count": null,
      "outputs": [
        {
          "output_type": "stream",
          "name": "stdout",
          "text": [
            "11\n"
          ]
        }
      ]
    },
    {
      "cell_type": "code",
      "source": [
        "#2nd way\n",
        "\n",
        "\n",
        "string=\"Hello world\"\n",
        "count=0\n",
        "\n",
        "for i in string:\n",
        "  count=count+1\n",
        "print(count)"
      ],
      "metadata": {
        "colab": {
          "base_uri": "https://localhost:8080/"
        },
        "id": "BIjvjpqBJgnz",
        "outputId": "0ca51c05-27b7-4dcf-aa51-13839d499f8e"
      },
      "execution_count": 5,
      "outputs": [
        {
          "output_type": "stream",
          "name": "stdout",
          "text": [
            "11\n"
          ]
        }
      ]
    },
    {
      "cell_type": "code",
      "source": [
        "#3rd way\n",
        "\n",
        "string=\"Hello world\"\n",
        "\n",
        "count=0\n",
        "while string[count:]:\n",
        "  count=count+1\n",
        "print(count)"
      ],
      "metadata": {
        "colab": {
          "base_uri": "https://localhost:8080/"
        },
        "id": "soHKATNMLzNJ",
        "outputId": "32e5279b-001c-47b2-c81b-9481dfd4e486"
      },
      "execution_count": 8,
      "outputs": [
        {
          "output_type": "stream",
          "name": "stdout",
          "text": [
            "11\n"
          ]
        }
      ]
    },
    {
      "cell_type": "code",
      "source": [
        "#4th way\n",
        "\n",
        "string=\"Hello world\"\n",
        "random_string=\"x\"\n",
        "A = random_string.join(string)\n",
        "print(A.count(random_string)+1)\n"
      ],
      "metadata": {
        "colab": {
          "base_uri": "https://localhost:8080/"
        },
        "id": "7N2XfQy94PBe",
        "outputId": "1b029c5b-cdca-490b-973a-646386242371"
      },
      "execution_count": 9,
      "outputs": [
        {
          "output_type": "stream",
          "name": "stdout",
          "text": [
            "11\n"
          ]
        }
      ]
    },
    {
      "cell_type": "markdown",
      "source": [
        "Q7. Python program to print even length words in a string"
      ],
      "metadata": {
        "id": "R5pLX7vo7TpD"
      }
    },
    {
      "cell_type": "code",
      "source": [
        "string=\"Hello welcome to the pyhton\"\n",
        "split_string =string.split()\n",
        "for ch in split_string:\n",
        "    if len(ch) % 2 == 0:\n",
        "        print(ch)\n"
      ],
      "metadata": {
        "colab": {
          "base_uri": "https://localhost:8080/"
        },
        "id": "7axttZYg_Hk4",
        "outputId": "411a40af-4018-4c06-861c-7530eb81b19d"
      },
      "execution_count": 10,
      "outputs": [
        {
          "output_type": "stream",
          "name": "stdout",
          "text": [
            "to\n",
            "pyhton\n"
          ]
        }
      ]
    },
    {
      "cell_type": "markdown",
      "source": [
        "Q8. Python program to accept the strings which contains all vowels"
      ],
      "metadata": {
        "id": "q20cCJMU_tlp"
      }
    },
    {
      "cell_type": "code",
      "source": [
        "string=\"Hello welcome to the python classes\"\n",
        "string = string.upper()\n",
        "vowels= set(\"AEIOU\")\n",
        "\n",
        "for ch in string:\n",
        "    if ch in vowels:\n",
        "        vowels.remove(ch)\n",
        "if len(vowels)==0:\n",
        "    print('accepted')\n",
        "else:\n",
        "    print('not accepted')\n",
        "\n"
      ],
      "metadata": {
        "colab": {
          "base_uri": "https://localhost:8080/"
        },
        "id": "9LGtbFDl_zxS",
        "outputId": "c807b168-17ae-411f-8ccb-1476e4857ea2"
      },
      "execution_count": 1,
      "outputs": [
        {
          "output_type": "stream",
          "name": "stdout",
          "text": [
            "not accepted\n"
          ]
        }
      ]
    },
    {
      "cell_type": "markdown",
      "source": [
        "Q9.Python | Count the Number of matching characters in a pair of string"
      ],
      "metadata": {
        "id": "IpYhr9y8hjwv"
      }
    },
    {
      "cell_type": "code",
      "source": [
        "string_1 =\"startwhereyouare\"\n",
        "string_2 =\"usewhatyouhave\"\n",
        "set_1 = set(string_1)\n",
        "set_2 = set(string_2)\n",
        "\n",
        "matching_char = set_1.intersection(set_2)\n",
        "print(\"The matching characters are :\" , matching_char)\n",
        "print(\"The count of matching charcters are:\" ,len(matching_char))\n"
      ],
      "metadata": {
        "colab": {
          "base_uri": "https://localhost:8080/"
        },
        "id": "Lj11rVCkmvzV",
        "outputId": "5d2961f2-ad13-45a6-f330-9da9f2f3b52c"
      },
      "execution_count": 2,
      "outputs": [
        {
          "output_type": "stream",
          "name": "stdout",
          "text": [
            "The matching characters are : {'s', 'u', 'h', 'o', 'a', 'w', 'e', 't', 'y'}\n",
            "The count of matching charcters are: 9\n"
          ]
        }
      ]
    },
    {
      "cell_type": "markdown",
      "source": [
        "Q10. Remove all duplicates from a given string in Python"
      ],
      "metadata": {
        "id": "0LfRbHyzq8bu"
      }
    },
    {
      "cell_type": "code",
      "source": [
        "string =\"Aabudghhdhdjdyy\"\n",
        "#Make the given string set, because set does not allow duplicate values\n",
        "set_1 = set(string)\n",
        "print(set_1)"
      ],
      "metadata": {
        "colab": {
          "base_uri": "https://localhost:8080/"
        },
        "id": "myb9e3F8q-Mo",
        "outputId": "af9bc3d9-f9b6-4333-ba4b-af806eca84a5"
      },
      "execution_count": 3,
      "outputs": [
        {
          "output_type": "stream",
          "name": "stdout",
          "text": [
            "{'A', 'g', 'u', 'j', 'h', 'a', 'd', 'b', 'y'}\n"
          ]
        }
      ]
    }
  ]
}