{
  "nbformat": 4,
  "nbformat_minor": 0,
  "metadata": {
    "colab": {
      "provenance": []
    },
    "kernelspec": {
      "name": "python3",
      "display_name": "Python 3"
    },
    "language_info": {
      "name": "python"
    }
  },
  "cells": [
    {
      "cell_type": "markdown",
      "source": [
        "Q1.Python program to find difference between current time and given time"
      ],
      "metadata": {
        "id": "05S2Xr51SR-D"
      }
    },
    {
      "cell_type": "code",
      "execution_count": 1,
      "metadata": {
        "colab": {
          "base_uri": "https://localhost:8080/"
        },
        "id": "viimJbYRSFJv",
        "outputId": "42ba483d-3e3d-45c1-ad48-ee68171f0546"
      },
      "outputs": [
        {
          "output_type": "stream",
          "name": "stdout",
          "text": [
            "The current times:  4 : 5\n",
            "The given times: 6 : 7\n",
            "The difference:  2 : 2 \n",
            "\n",
            "The current times:  1 : 1\n",
            "The given times: 1 : 1\n",
            "The difference: Both are Same !\n"
          ]
        }
      ],
      "source": [
        "def time_difference(h1, m1, h2, m2):\n",
        "    print(\"The current times: \", h1, \":\", m1)\n",
        "    t1 = h1 * 60 + m1\n",
        "    print(\"The given times:\", h2, \":\", m2)\n",
        "    t2 = h2 * 60 + m2\n",
        "    if(t1 == t2):\n",
        "        print(\"The difference: Both are Same !\")\n",
        "        return\n",
        "    else:\n",
        "        difference = t2 - t1\n",
        "    h = (int(difference/60)) % 24\n",
        "    m = difference % 60\n",
        "    print(\"The difference: \", h, \":\", m, \"\\n\")\n",
        "time_difference(4, 5, 6, 7)\n",
        "time_difference(1, 1, 1, 1)"
      ]
    },
    {
      "cell_type": "markdown",
      "source": [
        "Q2.Python Program to Create a Lap Timer"
      ],
      "metadata": {
        "id": "1TcOZGqMTNgv"
      }
    },
    {
      "cell_type": "code",
      "source": [
        "import time\n",
        "start=time.time()\n",
        "last=start\n",
        "num=1\n",
        "\n",
        "print(\"Press ENTER to count lap timer.\\nPress CTRL+C to stop\")\n",
        "try:\n",
        "\twhile True:\n",
        "\t\tinput()\n",
        "\t\tlap=round((time.time() - last), 2)\n",
        "\t\ttotal=round((time.time() - start), 2)\n",
        "\t\tprint(\"Lap Numer \"+str(num))\n",
        "\t\tprint(\"Total Time taken: \"+str(total))\n",
        "\t\tprint(\"Lap Time: \"+str(lap))\t\t\t\n",
        "\t\tprint(\"*\"*20)\n",
        "\t\tlast=time.time()\n",
        "\t\tnum+=1\n",
        "\n",
        "# Stop\n",
        "except KeyboardInterrupt:\n",
        "\tprint(\"Process Stopped\")\n",
        " "
      ],
      "metadata": {
        "colab": {
          "base_uri": "https://localhost:8080/"
        },
        "id": "qMNO5Z2NTTZE",
        "outputId": "ea0401f9-2734-4b43-ef1a-6fc0f3f51e78"
      },
      "execution_count": 3,
      "outputs": [
        {
          "output_type": "stream",
          "name": "stdout",
          "text": [
            "Press ENTER to count lap timer.\n",
            "Press CTRL+C to stop\n",
            "Process Stopped\n"
          ]
        }
      ]
    },
    {
      "cell_type": "markdown",
      "source": [
        "Q3.Convert date string to timestamp in Python"
      ],
      "metadata": {
        "id": "UzPKoIrwT-9c"
      }
    },
    {
      "cell_type": "code",
      "source": [
        "import time\n",
        "import datetime\n",
        "\n",
        "\n",
        "string = \"20/01/2020\"\n",
        "print(time.mktime(datetime.datetime.strptime(string,\"%d/%m/%Y\").timetuple()))\n"
      ],
      "metadata": {
        "colab": {
          "base_uri": "https://localhost:8080/"
        },
        "id": "ohp7TVCqUII3",
        "outputId": "2a2480bc-f48f-44dc-ffd3-89b214a2b48a"
      },
      "execution_count": 5,
      "outputs": [
        {
          "output_type": "stream",
          "name": "stdout",
          "text": [
            "1579478400.0\n"
          ]
        }
      ]
    },
    {
      "cell_type": "markdown",
      "source": [
        "Q4.How to convert timestamp string to datetime object in Python?"
      ],
      "metadata": {
        "id": "oz1Hk0sYUnah"
      }
    },
    {
      "cell_type": "code",
      "source": [
        "from datetime import datetime\n",
        "timestamp = 1545730073\n",
        "dt_obj = datetime.fromtimestamp(1140825600)\n",
        "\n",
        "print(\"date_time:\",dt_obj)\n",
        "print(\"type of dt:\",type(dt_obj))\n"
      ],
      "metadata": {
        "colab": {
          "base_uri": "https://localhost:8080/"
        },
        "id": "27JPfNAPUsAd",
        "outputId": "e1791fed-e2d8-4ec8-ab4d-6248b7faf7ac"
      },
      "execution_count": 6,
      "outputs": [
        {
          "output_type": "stream",
          "name": "stdout",
          "text": [
            "date_time: 2006-02-25 00:00:00\n",
            "type of dt: <class 'datetime.datetime'>\n"
          ]
        }
      ]
    },
    {
      "cell_type": "markdown",
      "source": [
        "Q5.Find number of times every day occurs in a Year"
      ],
      "metadata": {
        "id": "wkZAayVWU4c8"
      }
    },
    {
      "cell_type": "code",
      "source": [
        "import datetime\n",
        "import calendar\n",
        "\n",
        "def day_occur_in_time(year):\n",
        "\t\n",
        "\tdays = [ \"Monday\", \"Tuesday\", \"Wednesday\",\n",
        "\t\t\"Thursday\", \"Friday\", \"Saturday\",\n",
        "\t\t\"Sunday\" ]\n",
        "\t\n",
        "\tL = [52 for i in range(7)]\n",
        "\n",
        "\tpos = -1\n",
        "\tday = datetime.datetime(year, month = 1, day = 1).strftime(\"%A\")\n",
        "\tfor i in range(7):\n",
        "\t\tif day == days[i]:\n",
        "\t\t\tpos = i\n",
        "\t\t\t\n",
        "\tif calendar.isleap(year):\n",
        "\t\tL[pos] += 1\n",
        "\t\tL[(pos+1)%7] += 1\n",
        "\t\t\n",
        "\telse:\n",
        "\t\tL[pos] += 1\n",
        "\t\t\n",
        "\t\n",
        "\tfor i in range(7):\n",
        "\t\tprint(days[i], L[i])\n",
        "\n",
        "year = 2019\n",
        "day_occur_in_time(year)"
      ],
      "metadata": {
        "colab": {
          "base_uri": "https://localhost:8080/"
        },
        "id": "pQ1HfSOBU91t",
        "outputId": "4f006979-3b96-4ecd-a193-e8ab6c143ec7"
      },
      "execution_count": 7,
      "outputs": [
        {
          "output_type": "stream",
          "name": "stdout",
          "text": [
            "Monday 52\n",
            "Tuesday 53\n",
            "Wednesday 52\n",
            "Thursday 52\n",
            "Friday 52\n",
            "Saturday 52\n",
            "Sunday 52\n"
          ]
        }
      ]
    },
    {
      "cell_type": "markdown",
      "source": [
        "Q6.Python Program to Check if String Contain Only Defined Characters using Regex"
      ],
      "metadata": {
        "id": "RCiHe44TVkvw"
      }
    },
    {
      "cell_type": "code",
      "source": [
        "import re\n",
        "def match(str,pattern):\n",
        "  if re.search(pattern,str):\n",
        "    print(\"valid string\")\n",
        "  else:\n",
        "    print(\"invalid string\")\n",
        "\n",
        "pattern = re.compile('[A-Z]+$')\n",
        "match('ABCDE',pattern)\n",
        "match('45cyy7',pattern)\n",
        "match('9969',pattern)"
      ],
      "metadata": {
        "colab": {
          "base_uri": "https://localhost:8080/"
        },
        "id": "M9lWNPrPVpDw",
        "outputId": "61773ec3-c8ac-4511-8465-d6ffb013de93"
      },
      "execution_count": 9,
      "outputs": [
        {
          "output_type": "stream",
          "name": "stdout",
          "text": [
            "valid string\n",
            "invalid string\n",
            "invalid string\n"
          ]
        }
      ]
    },
    {
      "cell_type": "markdown",
      "source": [
        "Q7.Python program to Count Uppercase, Lowercase, special character and numeric values using\n",
        "Regex"
      ],
      "metadata": {
        "id": "ioIVo-zIWDBe"
      }
    },
    {
      "cell_type": "code",
      "source": [
        "import re\n",
        "\n",
        "\n",
        "string = input(\"Enter the string:\")\n",
        "\n",
        "uppercase_characters = re.findall(r\"[A-Z]\", string)\n",
        "lowercase_characters = re.findall(r\"[a-z]\", string)\n",
        "numerical_characters = re.findall(r\"[0-9]\", string)\n",
        "special_characters = re.findall(r\"[, .!?]\", string)\n",
        "\n",
        "print(len(uppercase_characters))\n",
        "print(len(lowercase_characters))\n",
        "print(len(numerical_characters))\n",
        "print(len(special_characters))\n"
      ],
      "metadata": {
        "colab": {
          "base_uri": "https://localhost:8080/"
        },
        "id": "C12HK4ROWHGL",
        "outputId": "0827217f-24dc-4db8-eca8-6e11c4125d58"
      },
      "execution_count": 10,
      "outputs": [
        {
          "output_type": "stream",
          "name": "stdout",
          "text": [
            "Enter the string:gvhjguygj6^%^$6fhgfjg\n",
            "0\n",
            "15\n",
            "2\n",
            "0\n"
          ]
        }
      ]
    },
    {
      "cell_type": "markdown",
      "source": [
        "Q8.Python Program to find the most occurring number in a string using Regex"
      ],
      "metadata": {
        "id": "4SlumkECWr1j"
      }
    },
    {
      "cell_type": "code",
      "source": [
        "import re\n",
        "import collections\n",
        "\n",
        "string= input(\"Enter the string: \")\n",
        "\n",
        "number = re.findall(r\"[0-9]\", string)\n",
        "\n",
        "counter = collections.Counter(number)\n",
        "max_count = 0\n",
        "max_value = None\n",
        "for key in list(counter.keys()):\n",
        "  if(counter[key]>max_count):\n",
        "    max_count = counter[key]\n",
        "    max_value = int(key)\n",
        "print(\"max_value\",max_value)"
      ],
      "metadata": {
        "colab": {
          "base_uri": "https://localhost:8080/"
        },
        "id": "Gb6VDwBZW5us",
        "outputId": "262f29f5-0088-4095-f4d0-68341937c2ea"
      },
      "execution_count": 12,
      "outputs": [
        {
          "output_type": "stream",
          "name": "stdout",
          "text": [
            "Enter the string: kjbdsfvbs8786465477777777shdbf\n",
            "max_value 7\n"
          ]
        }
      ]
    },
    {
      "cell_type": "markdown",
      "source": [
        "Q9.Python Regex to extract maximum numeric value from a string"
      ],
      "metadata": {
        "id": "-ggtnZdNXRFQ"
      }
    },
    {
      "cell_type": "code",
      "source": [
        "import re\n",
        "string=input(\"Enter the numeric string: \")\n",
        "number = re.findall('\\d+', string)\n",
        "\n",
        "number = map(int, number)\n",
        "print(\"Max_value:\",max(number))"
      ],
      "metadata": {
        "id": "pF3oo2b6XVGE"
      },
      "execution_count": null,
      "outputs": []
    },
    {
      "cell_type": "markdown",
      "source": [
        "Q10.Python Program to put spaces between words starting with capital letters using Regex"
      ],
      "metadata": {
        "id": "TjTTlaJyXuVu"
      }
    },
    {
      "cell_type": "code",
      "source": [
        "import re\n",
        "\n",
        "string='HelloWelcomeToThePython'\n",
        "words = re.findall('[A-Z][a-z]*', string)\n",
        "\n",
        "print(' '.join((words)))\n"
      ],
      "metadata": {
        "colab": {
          "base_uri": "https://localhost:8080/"
        },
        "id": "5RHT5ulHXy5m",
        "outputId": "ae4fab45-8007-4b10-e907-594a4ad07f71"
      },
      "execution_count": 16,
      "outputs": [
        {
          "output_type": "stream",
          "name": "stdout",
          "text": [
            "Hello Welcome To The Python\n"
          ]
        }
      ]
    },
    {
      "cell_type": "code",
      "source": [],
      "metadata": {
        "id": "zOCWZ0-AYrdu"
      },
      "execution_count": null,
      "outputs": []
    }
  ]
}