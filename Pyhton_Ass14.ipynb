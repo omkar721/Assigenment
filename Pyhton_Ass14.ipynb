{
  "nbformat": 4,
  "nbformat_minor": 0,
  "metadata": {
    "colab": {
      "provenance": []
    },
    "kernelspec": {
      "name": "python3",
      "display_name": "Python 3"
    },
    "language_info": {
      "name": "python"
    }
  },
  "cells": [
    {
      "cell_type": "markdown",
      "source": [
        "Q1.Python Program for Recursive Insertion Sort"
      ],
      "metadata": {
        "id": "8PvFLI_9Njei"
      }
    },
    {
      "cell_type": "code",
      "execution_count": null,
      "metadata": {
        "colab": {
          "base_uri": "https://localhost:8080/"
        },
        "id": "pzO31tkxNZlX",
        "outputId": "0c23c3a8-774e-49b9-9240-6c1ff78ce680"
      },
      "outputs": [
        {
          "output_type": "stream",
          "name": "stdout",
          "text": [
            "Sorted array is:\n",
            "1 3 3 4 4 5 5 6 8 "
          ]
        }
      ],
      "source": [
        "#RECURSIVE METHOD\n",
        "def Recursive_insertion_sort(arr,n):\n",
        "   # base case\n",
        "   if n<=1:\n",
        "      return\n",
        "   Recursive_insertion_sort(arr,n-1)\n",
        "   last = arr[n-1]\n",
        "   j = n-2\n",
        "\n",
        "   while (j>=0 and arr[j]>last):\n",
        "      arr[j+1] = arr[j]\n",
        "      j = j-1\n",
        "   arr[j+1]=last\n",
        "\n",
        "arr = [1,5,3,4,8,6,3,4,5]\n",
        "n = len(arr)\n",
        "Recursive_insertion_sort(arr, n)\n",
        "print(\"Sorted array is:\")\n",
        "for i in range(n):\n",
        "   print(arr[i],end=\" \")"
      ]
    },
    {
      "cell_type": "markdown",
      "source": [
        "Q2.Python Program for QuickSort"
      ],
      "metadata": {
        "id": "GMcSmkwVO9U0"
      }
    },
    {
      "cell_type": "code",
      "source": [
        "def partition(arr,low,high):\n",
        "   i = ( low-1 )\n",
        "   pivot = arr[high]\n",
        "   for j in range(low , high):\n",
        "\n",
        "      if arr[j] <= pivot:\n",
        "\n",
        "         i = i+1\n",
        "         arr[i],arr[j] = arr[j],arr[i]\n",
        "   arr[i+1],arr[high] = arr[high],arr[i+1]\n",
        "   return ( i+1 )\n",
        "\n",
        "def quickSort(arr,low,high):\n",
        "   if low < high:\n",
        "\n",
        "      pi = partition(arr,low,high)\n",
        "\n",
        "      quickSort(arr, low, pi-1)\n",
        "      quickSort(arr, pi+1, high)\n",
        "\n",
        "arr = [2,5,3,8,6,5,4,7]\n",
        "n = len(arr)\n",
        "quickSort(arr,0,n-1)\n",
        "print (\"Sorted array is:\")\n",
        "for i in range(n):\n",
        "   print (arr[i],end=\" \")"
      ],
      "metadata": {
        "colab": {
          "base_uri": "https://localhost:8080/"
        },
        "id": "f6WXxmEnPD4h",
        "outputId": "ae50e08e-4fbe-434c-c236-657fa61d40fa"
      },
      "execution_count": null,
      "outputs": [
        {
          "output_type": "stream",
          "name": "stdout",
          "text": [
            "Sorted array is:\n",
            "2 3 4 5 5 6 7 8 "
          ]
        }
      ]
    },
    {
      "cell_type": "markdown",
      "source": [
        "Q3.Python Program for Iterative Quick Sort"
      ],
      "metadata": {
        "id": "IgZpM0joPZRQ"
      }
    },
    {
      "cell_type": "code",
      "source": [
        "def partition(array,low,high):\n",
        "    i = ( low - 1 )\n",
        "    x = array[high]\n",
        " \n",
        "    for j in range(low , high):\n",
        "        if   array[j] <= x:\n",
        " \n",
        "            i = i+1\n",
        "            array[i],array[j] = array[j],array[i]\n",
        " \n",
        "    array[i+1],array[high] = array[high],array[i+1]\n",
        "    return (i+1)\n",
        " \n",
        "def I_QuickSort(array,low,high):\n",
        "\n",
        "    size = high - low + 1\n",
        "    stack = [0] * (size)\n",
        " \n",
        "    top = -1\n",
        " \n",
        "    top = top + 1\n",
        "    stack[top] = low\n",
        "    top = top + 1\n",
        "    stack[top] = high\n",
        "\n",
        "    while top >= 0:\n",
        " \n",
        "        high = stack[top]\n",
        "        top = top - 1\n",
        "        low = stack[top]\n",
        "        top = top - 1\n",
        "\n",
        "        p = partition( array, low, high )\n",
        "\n",
        "        if p-1 > low:\n",
        "            top = top + 1\n",
        "            stack[top] = low\n",
        "            top = top + 1\n",
        "            stack[top] = p - 1\n",
        "\n",
        "        if p+1 < high:\n",
        "            top = top + 1\n",
        "            stack[top] = p + 1\n",
        "            top = top + 1\n",
        "            stack[top] = high\n",
        " \n",
        " \n",
        "array = [9, 0, 8, 1, 7, 3, 6, 4]\n",
        "n = len(array)\n",
        "print(\"Orignal Array:\", array)\n",
        "I_QuickSort(array, 0, n-1)\n",
        "print (\"Sorted Array :\", array)"
      ],
      "metadata": {
        "colab": {
          "base_uri": "https://localhost:8080/"
        },
        "id": "niVFTiuQPzpv",
        "outputId": "4a350a96-5a44-4d5c-f987-3465dc03d7bd"
      },
      "execution_count": null,
      "outputs": [
        {
          "output_type": "stream",
          "name": "stdout",
          "text": [
            "Orignal Array: [9, 0, 8, 1, 7, 3, 6, 4]\n",
            "Sorted Array : [0, 1, 3, 4, 6, 7, 8, 9]\n"
          ]
        }
      ]
    },
    {
      "cell_type": "markdown",
      "source": [
        "Q4.python program for selection sort"
      ],
      "metadata": {
        "id": "d3E7LN2rP81R"
      }
    },
    {
      "cell_type": "code",
      "source": [
        "def selection_sort(array):  \n",
        "    length = len(array)  \n",
        "      \n",
        "    for i in range(length-1):  \n",
        "        minIndex = i  \n",
        "          \n",
        "        for j in range(i+1, length):  \n",
        "            if array[j]<array[minIndex]:  \n",
        "                minIndex = j  \n",
        "                  \n",
        "        array[i], array[minIndex] = array[minIndex], array[i]  \n",
        "          \n",
        "          \n",
        "    return array      \n",
        "array = [21,6,9,33,3]  \n",
        "  \n",
        "print(\"The sorted array is: \", selection_sort(array))"
      ],
      "metadata": {
        "colab": {
          "base_uri": "https://localhost:8080/"
        },
        "id": "GXr_GeTkQZ8O",
        "outputId": "6e889c2d-52d3-445a-cb43-b00d53ef9cca"
      },
      "execution_count": null,
      "outputs": [
        {
          "output_type": "stream",
          "name": "stdout",
          "text": [
            "The sorted array is:  [3, 6, 9, 21, 33]\n"
          ]
        }
      ]
    },
    {
      "cell_type": "markdown",
      "source": [
        "Q5.Python Program for Bubble Sort"
      ],
      "metadata": {
        "id": "N1ieONR-RUh6"
      }
    },
    {
      "cell_type": "code",
      "source": [
        "def bubblesort(elements):\n",
        "\tswapped = False\n",
        "\n",
        "\tfor n in range(len(elements)-1, 0, -1):\n",
        "\t\tfor i in range(n):\n",
        "\t\t\tif elements[i] > elements[i + 1]:\n",
        "\t\t\t\tswapped = True\n",
        "\n",
        "\t\t\t\telements[i], elements[i + 1] = elements[i + 1], elements[i]\t\n",
        "\t\tif not swapped:\n",
        "\t\t\treturn\n",
        "\n",
        "elements = [39, 12, 18, 85, 72, 10, 2, 18]\n",
        "\n",
        "print(\"Unsorted list is,\")\n",
        "print(elements)\n",
        "bubblesort(elements)\n",
        "print(\"Sorted Array is, \")\n",
        "print(elements)\n"
      ],
      "metadata": {
        "colab": {
          "base_uri": "https://localhost:8080/"
        },
        "id": "aPZbOLfxRYxR",
        "outputId": "3ab94bba-d61b-4793-d7e4-149c9b0c8421"
      },
      "execution_count": null,
      "outputs": [
        {
          "output_type": "stream",
          "name": "stdout",
          "text": [
            "Unsorted list is,\n",
            "[39, 12, 18, 85, 72, 10, 2, 18]\n",
            "Sorted Array is, \n",
            "[2, 10, 12, 18, 18, 39, 72, 85]\n"
          ]
        }
      ]
    },
    {
      "cell_type": "markdown",
      "source": [
        "Q6.Python Program for Merge Sort"
      ],
      "metadata": {
        "id": "4cfEKBBERrhE"
      }
    },
    {
      "cell_type": "code",
      "source": [
        "def merge(arr, l, m, r):\n",
        "\tn1 = m - l + 1\n",
        "\tn2 = r - m\n",
        "\n",
        "\tL = [0] * (n1)\n",
        "\tR = [0] * (n2)\n",
        "\n",
        "\n",
        "\tfor i in range(0, n1):\n",
        "\t\tL[i] = arr[l + i]\n",
        "\n",
        "\tfor j in range(0, n2):\n",
        "\t\tR[j] = arr[m + 1 + j]\n",
        "\n",
        "\ti = 0\t \n",
        "\tj = 0\t \n",
        "\tk = l\t \n",
        "\n",
        "\twhile i < n1 and j < n2:\n",
        "\t\tif L[i] <= R[j]:\n",
        "\t\t\tarr[k] = L[i]\n",
        "\t\t\ti += 1\n",
        "\t\telse:\n",
        "\t\t\tarr[k] = R[j]\n",
        "\t\t\tj += 1\n",
        "\t\tk += 1\n",
        "\n",
        "\twhile i < n1:\n",
        "\t\tarr[k] = L[i]\n",
        "\t\ti += 1\n",
        "\t\tk += 1\n",
        "\n",
        "\n",
        "\twhile j < n2:\n",
        "\t\tarr[k] = R[j]\n",
        "\t\tj += 1\n",
        "\t\tk += 1\n",
        "\n",
        "\n",
        "\n",
        "def mergeSort(arr, l, r):\n",
        "\tif l < r:\n",
        "\n",
        "\t\tm = l+(r-l)//2\n",
        "\n",
        "\n",
        "\t\tmergeSort(arr, l, m)\n",
        "\t\tmergeSort(arr, m+1, r)\n",
        "\t\tmerge(arr, l, m, r)\n",
        "\n",
        "\n",
        "\n",
        "arr = [12, 11, 13, 5, 6, 7]\n",
        "n = len(arr)\n",
        "print(\"Given array is\")\n",
        "for i in range(n):\n",
        "\tprint(\"%d\" % arr[i],end=\" \")\n",
        "\n",
        "mergeSort(arr, 0, n-1)\n",
        "print(\"\\n\\nSorted array is\")\n",
        "for i in range(n):\n",
        "\tprint(\"%d\" % arr[i],end=\" \")\n"
      ],
      "metadata": {
        "colab": {
          "base_uri": "https://localhost:8080/"
        },
        "id": "11zNswmaR14G",
        "outputId": "f8e0eb90-5eae-432b-ef3f-ad3c2f754cfa"
      },
      "execution_count": null,
      "outputs": [
        {
          "output_type": "stream",
          "name": "stdout",
          "text": [
            "Given array is\n",
            "12 11 13 5 6 7 \n",
            "\n",
            "Sorted array is\n",
            "5 6 7 11 12 13 "
          ]
        }
      ]
    },
    {
      "cell_type": "markdown",
      "source": [
        "Q7.python program for iterative merge sort"
      ],
      "metadata": {
        "id": "h316nhANSWX7"
      }
    },
    {
      "cell_type": "code",
      "source": [
        "def merge(S, temp, From, mid, to):\n",
        " \n",
        "    a = From\n",
        "    b = From\n",
        "    c = mid + 1\n",
        " \n",
        "    while b <= mid and c <= to:\n",
        "        if S[b] < S[c]:\n",
        "            temp[a] = S[b]\n",
        "            b = b + 1\n",
        "        else:\n",
        "            temp[a] = S[c]\n",
        "            c = c + 1\n",
        "        a = a + 1\n",
        " \n",
        "    while b < len(S) and b <= mid:\n",
        "        temp[a] = S[b]\n",
        "        a = a + 1\n",
        "        b = b + 1\n",
        "\n",
        "    for b in range(From, to + 1):\n",
        "        S[b] = temp[b]\n",
        "\n",
        "def Merge_Sort(S):\n",
        " \n",
        "    low = 0\n",
        "    high = len(S) - 1\n",
        "    temp = S.copy()\n",
        " \n",
        "    d = 1\n",
        "    while d <= high - low:\n",
        " \n",
        "        for b in range(low, high, 2*d):\n",
        "            From = b\n",
        "            mid = b + d - 1\n",
        "            to = min(b + 2*d - 1, high)\n",
        "            merge(S, temp, From, mid, to)\n",
        " \n",
        "        d = 2*d\n",
        " \n",
        "if __name__ == '__main__':\n",
        "    S = [4, 2, 3, 1, 6, 5]\n",
        "    print(\"The Original array is: \", S)\n",
        "    Merge_Sort(S)\n",
        "    print(\"Array after sorting is: \", S)"
      ],
      "metadata": {
        "colab": {
          "base_uri": "https://localhost:8080/"
        },
        "id": "Zwd-BuwsSSxm",
        "outputId": "28e2eb43-0e73-4bed-dfc8-9b916cadbb88"
      },
      "execution_count": null,
      "outputs": [
        {
          "output_type": "stream",
          "name": "stdout",
          "text": [
            "The Original array is:  [4, 2, 3, 1, 6, 5]\n",
            "Array after sorting is:  [1, 2, 3, 4, 5, 6]\n"
          ]
        }
      ]
    },
    {
      "cell_type": "markdown",
      "source": [
        "Q8.Python Program for Heap Sort"
      ],
      "metadata": {
        "id": "QmKFrRrnSv9Q"
      }
    },
    {
      "cell_type": "code",
      "source": [
        "def heapify(arr, n, i):\n",
        "   largest = i \n",
        "   l = 2 * i + 1\n",
        "   r = 2 * i + 2\n",
        "   if l < n and arr[i] < arr[l]:\n",
        "      largest = l\n",
        "   if r < n and arr[largest] < arr[r]:\n",
        "      largest = r\n",
        "\n",
        "   if largest != i:\n",
        "      arr[i],arr[largest] = arr[largest],arr[i] \n",
        "      heapify(arr, n, largest)\n",
        "\n",
        "def heapSort(arr):\n",
        "   n = len(arr)\n",
        "\n",
        "   for i in range(n, -1, -1):\n",
        "      heapify(arr, n, i)\n",
        "\n",
        "   for i in range(n-1, 0, -1):\n",
        "      arr[i], arr[0] = arr[0], arr[i]\n",
        "      heapify(arr, i, 0)\n",
        "arr = [2,5,3,8,6,5,4,7]\n",
        "heapSort(arr)\n",
        "n = len(arr)\n",
        "print (\"Sorted array is\")\n",
        "for i in range(n):\n",
        "   print (arr[i],end=\" \")"
      ],
      "metadata": {
        "colab": {
          "base_uri": "https://localhost:8080/"
        },
        "id": "PIAt3hx7S5fz",
        "outputId": "75fadf95-33ae-4887-e222-ac03ac7ac5b0"
      },
      "execution_count": null,
      "outputs": [
        {
          "output_type": "stream",
          "name": "stdout",
          "text": [
            "Sorted array is\n",
            "2 3 4 5 5 6 7 8 "
          ]
        }
      ]
    },
    {
      "cell_type": "markdown",
      "source": [
        "Q9.Python Program for Counting Sort"
      ],
      "metadata": {
        "id": "bRCcMenXTDrw"
      }
    },
    {
      "cell_type": "code",
      "source": [
        "def countingSort(array):\n",
        "    size = len(array)\n",
        "    output = [0] * size\n",
        "\n",
        "    count = [0] * 10\n",
        "\n",
        "    for i in range(0, size):\n",
        "        count[array[i]] += 1\n",
        "\n",
        "    for i in range(1, 10):\n",
        "        count[i] += count[i - 1]\n",
        "\n",
        "    i = size - 1\n",
        "    while i >= 0:\n",
        "        output[count[array[i]] - 1] = array[i]\n",
        "        count[array[i]] -= 1\n",
        "        i -= 1\n",
        "    for i in range(0, size):\n",
        "        array[i] = output[i]\n",
        "\n",
        "\n",
        "data = [4, 2, 2, 8, 3, 3, 1]\n",
        "countingSort(data)\n",
        "print(\"Sorted Array : \")\n",
        "print(data)"
      ],
      "metadata": {
        "colab": {
          "base_uri": "https://localhost:8080/"
        },
        "id": "Cy4-GeDwTPpK",
        "outputId": "dd5f4d80-f97c-4488-d527-f14beb3920d4"
      },
      "execution_count": 2,
      "outputs": [
        {
          "output_type": "stream",
          "name": "stdout",
          "text": [
            "Sorted Array : \n",
            "[1, 2, 2, 3, 3, 4, 8]\n"
          ]
        }
      ]
    },
    {
      "cell_type": "markdown",
      "source": [
        "Q10.Python Program for ShellSort"
      ],
      "metadata": {
        "id": "-q6nKDRjTfZR"
      }
    },
    {
      "cell_type": "code",
      "source": [
        "def shell_sort(my_list, list_len):\n",
        "   interval = list_len // 2\n",
        "   while interval > 0:\n",
        "      for i in range(interval, list_len):\n",
        "         temp = my_list[i]\n",
        "         j = i\n",
        "         while j >= interval and my_list[j - interval] > temp:\n",
        "            my_list[j] = my_list[j - interval]\n",
        "            j -= interval\n",
        "         my_list[j] = temp\n",
        "      interval //= 2\n",
        "\n",
        "my_list = [ 45, 31, 62, 12, 89, 5, 9, 8]\n",
        "list_len = len(my_list)\n",
        "print (\"The list before sorting is :\")\n",
        "print(my_list)\n",
        "shell_sort(my_list, list_len)\n",
        "print (\"The list after performing shell sorting is :\")\n",
        "print(my_list)"
      ],
      "metadata": {
        "colab": {
          "base_uri": "https://localhost:8080/"
        },
        "id": "0XBTg54STkaT",
        "outputId": "6b7dd623-d827-484e-e55b-c6d70c8ea2c1"
      },
      "execution_count": 3,
      "outputs": [
        {
          "output_type": "stream",
          "name": "stdout",
          "text": [
            "The list before sorting is :\n",
            "[45, 31, 62, 12, 89, 5, 9, 8]\n",
            "The list after performing shell sorting is :\n",
            "[5, 8, 9, 12, 31, 45, 62, 89]\n"
          ]
        }
      ]
    }
  ]
}