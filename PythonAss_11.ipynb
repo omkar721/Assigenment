{
  "nbformat": 4,
  "nbformat_minor": 0,
  "metadata": {
    "colab": {
      "provenance": []
    },
    "kernelspec": {
      "name": "python3",
      "display_name": "Python 3"
    },
    "language_info": {
      "name": "python"
    }
  },
  "cells": [
    {
      "cell_type": "markdown",
      "source": [
        "Q1.Python – Sort Dictionary key and values List"
      ],
      "metadata": {
        "id": "42gnoGEbSmhI"
      }
    },
    {
      "cell_type": "code",
      "execution_count": null,
      "metadata": {
        "colab": {
          "base_uri": "https://localhost:8080/"
        },
        "id": "Fyk4oGz0SeGH",
        "outputId": "7b223f72-a9c5-4839-cb01-a6993481840c"
      },
      "outputs": [
        {
          "output_type": "stream",
          "name": "stdout",
          "text": [
            "The original dictionary is:  {'Omkar': [1, 2], 'Shubham': [12, 4], 'Sahil': [55, 12]}\n",
            "The sorted dictionary is :  {'Omkar': [1, 2], 'Sahil': [12, 55], 'Shubham': [4, 12]}\n"
          ]
        }
      ],
      "source": [
        "Dict_1 = {\"Omkar\":[1,2],\"Shubham\":[12,4],\"Sahil\":[55,12]}\n",
        "\n",
        "print(\"The original dictionary is: \",Dict_1)\n",
        "sorted_dict = {}\n",
        "for key in sorted(Dict_1):\n",
        "    sorted_dict[key] = sorted(Dict_1[key])\n",
        "\n",
        "print(\"The sorted dictionary is : \" , sorted_dict) \n",
        "\n"
      ]
    },
    {
      "cell_type": "markdown",
      "source": [
        "Q2.Handling missing keys in Python dictionaries"
      ],
      "metadata": {
        "id": "0s7QHqiYUg9M"
      }
    },
    {
      "cell_type": "code",
      "source": [
        "World_cup= {'IND': 2011, 'ENG': 2019, 'AUS': 2003 }\n",
        "\n",
        "print(World_cup.get('IND','Not Found'))\n",
        "\n",
        "print(World_cup.get('PAK','Not found'))"
      ],
      "metadata": {
        "colab": {
          "base_uri": "https://localhost:8080/"
        },
        "id": "I4CiPKkwdHTT",
        "outputId": "1a3e65c0-e7a7-4fec-9618-c82f8b061fbf"
      },
      "execution_count": null,
      "outputs": [
        {
          "output_type": "stream",
          "name": "stdout",
          "text": [
            "2011\n",
            "Not found\n"
          ]
        }
      ]
    },
    {
      "cell_type": "markdown",
      "source": [
        "Q3.Python dictionary with keys having multiple inputs"
      ],
      "metadata": {
        "id": "grfObfSE2lrN"
      }
    },
    {
      "cell_type": "code",
      "source": [
        "demo_dict = {}\n",
        "\n",
        "a, b, c = 15, 26, 38\n",
        "demo_dict[a, b, c] = a + b - c\n",
        "\n",
        "a, b, c = 5, 4, 11\n",
        "demo_dict[a, b, c] = a + b - c\n",
        "\n",
        "print(demo_dict)"
      ],
      "metadata": {
        "id": "-De_D-MM2qX8",
        "colab": {
          "base_uri": "https://localhost:8080/"
        },
        "outputId": "73a0ffac-7112-4c72-c8d0-58fc79aebb79"
      },
      "execution_count": 6,
      "outputs": [
        {
          "output_type": "stream",
          "name": "stdout",
          "text": [
            "{(15, 26, 38): 3, (5, 4, 11): -2}\n"
          ]
        }
      ]
    },
    {
      "cell_type": "markdown",
      "source": [
        "Q4.Print anagrams together in Python using List and Dictionary"
      ],
      "metadata": {
        "id": "4Y0qiDnt5YY7"
      }
    },
    {
      "cell_type": "code",
      "source": [
        "def Anagram(A): \n",
        "      \n",
        "    dict = {} \n",
        "      \n",
        "    for val in A: \n",
        "          \n",
        "        key = ''.join(sorted(val)) \n",
        "          \n",
        "        if key in dict.keys(): \n",
        "            dict[key].append(val) \n",
        "        else: \n",
        "            dict[key] = [] \n",
        "            dict[key].append(val) \n",
        "  \n",
        "    result = \"\" \n",
        "    for key,value in dict.items(): \n",
        "        result = result + ' '.join(value) + ' '\n",
        "  \n",
        "    return result \n",
        "  \n",
        "A=['act', 'cat', 'keen','knee']\n",
        "print(\"Words: \",A)\n",
        "print(\"Anagram: \",Anagram(A))"
      ],
      "metadata": {
        "colab": {
          "base_uri": "https://localhost:8080/"
        },
        "id": "zkOtnLaJ5Wc5",
        "outputId": "d74ed7a0-7cae-46d5-b3b9-dfd02720734c"
      },
      "execution_count": null,
      "outputs": [
        {
          "output_type": "stream",
          "name": "stdout",
          "text": [
            "Words:  ['act', 'cat', 'keen', 'knee']\n",
            "Anagram:  act cat keen knee \n"
          ]
        }
      ]
    },
    {
      "cell_type": "markdown",
      "source": [
        "Q5.K’th Non-repeating Character in Python using List Comprehension and OrderedDict"
      ],
      "metadata": {
        "id": "TW8LfO4-7Q4t"
      }
    },
    {
      "cell_type": "code",
      "source": [
        "from collections import OrderedDict\n",
        "import itertools\n",
        "def kthCharacter(list_1,k):\n",
        "   dict_1 = OrderedDict.fromkeys(list_1,0)\n",
        "   for ch in list_1:\n",
        "      dict_1[ch]+= 1\n",
        "   \n",
        "   nonRepeatdict_1 = [key for (key,value) in dict_1.items() if value==1]\n",
        "   \n",
        "   if len(nonRepeatdict_1) < k:\n",
        "      return 'no ouput.'\n",
        "   else:\n",
        "      return nonRepeatdict_1[k-1]\n",
        "\n",
        "if __name__ == \"__main__\":\n",
        "   list_1 = \"ababcdeffe\"\n",
        "   k = 2\n",
        "   print (kthCharacter(list_1, k))"
      ],
      "metadata": {
        "id": "M7TslicP8yqC",
        "colab": {
          "base_uri": "https://localhost:8080/"
        },
        "outputId": "ff0fdfb0-5d55-445d-f9d5-ecd6da9f5a59"
      },
      "execution_count": 2,
      "outputs": [
        {
          "output_type": "stream",
          "name": "stdout",
          "text": [
            "d\n"
          ]
        }
      ]
    },
    {
      "cell_type": "markdown",
      "source": [
        "Q6.Check if binary representations of two numbers are anagram"
      ],
      "metadata": {
        "id": "qOp9bp6ew6wo"
      }
    },
    {
      "cell_type": "code",
      "source": [
        "print(bin(8),bin(4))\n",
        "\n"
      ],
      "metadata": {
        "colab": {
          "base_uri": "https://localhost:8080/"
        },
        "id": "FJKV2P1rxwdu",
        "outputId": "c38bd99c-234f-488e-de20-40b50ceb0b51"
      },
      "execution_count": 7,
      "outputs": [
        {
          "output_type": "stream",
          "name": "stdout",
          "text": [
            "0b1000 0b100\n"
          ]
        }
      ]
    },
    {
      "cell_type": "code",
      "source": [
        "from collections import Counter\n",
        "\n",
        "input1 = int(input(\"Enter the first number: \"))\n",
        "input2 = int(input(\"Enter the second number: \"))\n",
        "\n",
        "b1= bin(input1).replace(\"0b\",\"\")\n",
        "b2 = bin(input2).replace(\"0b\",\"\")\n",
        "\n",
        "#print(b1,b2)\n",
        "length= abs(len(b1)-len(b2))\n",
        "#length\n",
        "if (len(b1)< len(b2)):\n",
        "  b1=\"0\"*length +b1\n",
        "else:\n",
        "  b2=\"0\"*length +b2\n",
        "\n",
        "d1= Counter(b1)\n",
        "d2 = Counter(b2)\n",
        "\n",
        "if (d1==d2):\n",
        "  print(\"The given numbers are anagram\")\n",
        "else:\n",
        "  print(\"The given numbers are not anagram\")"
      ],
      "metadata": {
        "colab": {
          "base_uri": "https://localhost:8080/"
        },
        "id": "cczENba50ceK",
        "outputId": "d2581bbd-034f-4be3-b190-d59811805689"
      },
      "execution_count": 14,
      "outputs": [
        {
          "output_type": "stream",
          "name": "stdout",
          "text": [
            "Enter the first number: 4\n",
            "Enter the second number: 8\n",
            "The given numbers are anagram\n"
          ]
        }
      ]
    },
    {
      "cell_type": "markdown",
      "source": [
        "Q7.Python Counter to find the size of largest subset of anagram words"
      ],
      "metadata": {
        "id": "vbOBQiOt8cJF"
      }
    },
    {
      "cell_type": "code",
      "source": [
        "from collections import Counter\n",
        "\n",
        "#creating a function\n",
        "\n",
        "def Find_size(string_1):\n",
        "  list_1 =string_1.split()\n",
        "  #print(list_1)\n",
        "  for i in range(0, len(list_1)):\n",
        "    list_1[i] =''.join(sorted(list_1[i]))\n",
        "  #print(list_1)\n",
        "\n",
        "count= Counter(list_1)\n",
        "print (max(count.values()))\n",
        "\n",
        "string_1=\"ant magenta magnate tan gnamate\"\n",
        "Find_size(string_1)"
      ],
      "metadata": {
        "colab": {
          "base_uri": "https://localhost:8080/"
        },
        "id": "kvaGvAIR8gRN",
        "outputId": "09246e06-e691-49bd-be4d-6b279f6a99cd"
      },
      "execution_count": 26,
      "outputs": [
        {
          "output_type": "stream",
          "name": "stdout",
          "text": [
            "2\n"
          ]
        }
      ]
    },
    {
      "cell_type": "markdown",
      "source": [
        "Q8.Python | Remove all duplicates words from a given sentence"
      ],
      "metadata": {
        "id": "Q7pYr3MJEKZI"
      }
    },
    {
      "cell_type": "code",
      "source": [
        "from collections import Counter\n",
        "\n",
        "#creating function\n",
        "def Remove(string_1):\n",
        "  list_1 = string_1.split()\n",
        "\n",
        "  count= Counter(list_1)\n",
        "  print(' '.join(count.keys()))\n",
        "\n",
        "\n",
        "string_1 =\"What is your name My name is what\"\n",
        "Remove(string_1)"
      ],
      "metadata": {
        "colab": {
          "base_uri": "https://localhost:8080/"
        },
        "id": "THOpKSMRDfFu",
        "outputId": "7e3e52f8-1309-4a20-ecee-7364260de272"
      },
      "execution_count": 28,
      "outputs": [
        {
          "output_type": "stream",
          "name": "stdout",
          "text": [
            "What is your name My what\n"
          ]
        }
      ]
    },
    {
      "cell_type": "markdown",
      "source": [
        "Q9.Python Dictionary to find mirror characters in a string"
      ],
      "metadata": {
        "id": "UnnbBcuUJRC5"
      }
    },
    {
      "cell_type": "code",
      "source": [
        "import string\n",
        "string_1 =input(\"Enter the string: \").lower()\n",
        "\n",
        "alpha= string.ascii_lowercase\n",
        "reverse= alpha[::-1]\n",
        "var=\"\"\n",
        "\n",
        "dict_1 = dict(zip(alpha, reverse))\n",
        "\n",
        "for i in string_1:\n",
        "  var= var+dict_1[i]\n",
        "\n",
        "print(string_1)\n",
        "print(var)"
      ],
      "metadata": {
        "colab": {
          "base_uri": "https://localhost:8080/"
        },
        "id": "jZ_gZWdDJU8I",
        "outputId": "ab2a6d1f-b94c-4ce6-801c-78ad9351ad04"
      },
      "execution_count": 6,
      "outputs": [
        {
          "output_type": "stream",
          "name": "stdout",
          "text": [
            "Enter the string: AbC\n",
            "abc\n",
            "zyx\n"
          ]
        }
      ]
    },
    {
      "cell_type": "markdown",
      "source": [
        "Q10.Counting the frequencies in a list using dictionary in Python"
      ],
      "metadata": {
        "id": "orzwqSANO0Vu"
      }
    },
    {
      "cell_type": "code",
      "source": [
        "list_1 =[1,2,0,2,1,3,4,5,6,4,1,2,5,1,0,0,1,2]\n",
        "\n",
        "frequency = {}\n",
        "\n",
        "for item in list_1:\n",
        "   if item in frequency:\n",
        "      frequency[item] += 1\n",
        "   else:\n",
        "      frequency[item] = 1\n",
        "\n",
        "print(frequency)"
      ],
      "metadata": {
        "colab": {
          "base_uri": "https://localhost:8080/"
        },
        "id": "_4n8x-oLO6hn",
        "outputId": "4e761aa3-eb84-44b3-ca00-1bf1c22d0610"
      },
      "execution_count": 4,
      "outputs": [
        {
          "output_type": "stream",
          "name": "stdout",
          "text": [
            "{1: 5, 2: 4, 0: 3, 3: 1, 4: 2, 5: 2, 6: 1}\n"
          ]
        }
      ]
    }
  ]
}