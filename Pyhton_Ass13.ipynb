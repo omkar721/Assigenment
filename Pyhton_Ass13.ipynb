{
  "nbformat": 4,
  "nbformat_minor": 0,
  "metadata": {
    "colab": {
      "provenance": [],
      "collapsed_sections": []
    },
    "kernelspec": {
      "name": "python3",
      "display_name": "Python 3"
    },
    "language_info": {
      "name": "python"
    }
  },
  "cells": [
    {
      "cell_type": "code",
      "execution_count": null,
      "metadata": {
        "id": "x2mz23280aEb"
      },
      "outputs": [],
      "source": [
        "#Q1.Pyhton-Join Tuples if similar intial element\n",
        "list_1=[(5,6),(5,7),(6,8),(6,10),(7,13),(5,9)]\n",
        "print(\"The original list is:\",list_1)\n",
        "var=[]\n",
        "\n",
        "for sub in list_1:\n",
        "    if var and var[-1][0]== sub[0]:\n",
        "        var[-1].extend(sub[1:])\n",
        "    else:\n",
        "        var.append([ele for ele in sub])\n",
        "var= list(map(tuple,var))\n",
        "print(\"The new list is:\",var)\n",
        "\n"
      ]
    },
    {
      "cell_type": "markdown",
      "source": [
        "Q2.Pyhton-Extract digits from tuple list"
      ],
      "metadata": {
        "id": "fzwJW3hpzLiV"
      }
    },
    {
      "cell_type": "code",
      "source": [
        "import re\n",
        "list_1=[(12,45),(54,96)]\n",
        "print(\"The original list is:\",list_1)\n",
        "var_1=re.sub(r'[\\[\\]\\(\\),]','',list_1)\n",
        "res=[int(i) for i in set(temp)]\n",
        "print(\"The new list is:\",res)"
      ],
      "metadata": {
        "id": "U1ja2lW8zKa6"
      },
      "execution_count": null,
      "outputs": []
    },
    {
      "cell_type": "code",
      "source": [
        "#Q3.Pyhton-All pair combinations of 2 tuples\n",
        "from itertools import chain,product\n",
        "t_1=(1,2)\n",
        "t_2=(3,4)\n",
        "res=list(chain(product(t_1,t_2,product(t_2,t_1))))\n",
        "print(res)"
      ],
      "metadata": {
        "colab": {
          "base_uri": "https://localhost:8080/"
        },
        "id": "XXlP5XZMzl_N",
        "outputId": "677934cc-a71b-4e5a-edd5-5c2e14e955a7"
      },
      "execution_count": 13,
      "outputs": [
        {
          "output_type": "stream",
          "name": "stdout",
          "text": [
            "[(1, 3, (3, 1)), (1, 3, (3, 2)), (1, 3, (4, 1)), (1, 3, (4, 2)), (1, 4, (3, 1)), (1, 4, (3, 2)), (1, 4, (4, 1)), (1, 4, (4, 2)), (2, 3, (3, 1)), (2, 3, (3, 2)), (2, 3, (4, 1)), (2, 3, (4, 2)), (2, 4, (3, 1)), (2, 4, (3, 2)), (2, 4, (4, 1)), (2, 4, (4, 2))]\n"
          ]
        }
      ]
    },
    {
      "cell_type": "code",
      "source": [
        "\n",
        "#Q4Pyhton-Remove tuples from lenghth k\n",
        "list_1=[(5,6),(5,7),(6,8),(6,10),(7,13),(5,9)]\n",
        "print(\"The original list is: \",list_1)\n",
        "k=2\n",
        "res=[a for a in list_1 if len(a)!= k]\n",
        "print(\"The new list is:\",res)"
      ],
      "metadata": {
        "colab": {
          "base_uri": "https://localhost:8080/"
        },
        "id": "Nk-0TCF6zvqe",
        "outputId": "7141e0f9-1913-4f40-835d-5bfdf92c9c51"
      },
      "execution_count": 9,
      "outputs": [
        {
          "output_type": "stream",
          "name": "stdout",
          "text": [
            "The original list is:  [(5, 6), (5, 7), (6, 8), (6, 10), (7, 13), (5, 9)]\n",
            "The new list is: []\n"
          ]
        }
      ]
    },
    {
      "cell_type": "code",
      "source": [
        "#Q5Sort a list of tuples by second iteam\n",
        "list_1=[(5,6),(5,7),(6,8),(6,1),(7,3),(5,2)]\n",
        "print(\"the original tuple list is \",list_1)\n",
        "def Sort(list_1):\n",
        "    list_1.sort(key=lambda a: a[1])\n",
        "    return list_1\n",
        "print(\"sorted tuple list is \",Sort(list_1))"
      ],
      "metadata": {
        "colab": {
          "base_uri": "https://localhost:8080/"
        },
        "id": "GVzg2fHHzzoo",
        "outputId": "a266f8f6-407c-4a7e-8c9b-faf43ba1434c"
      },
      "execution_count": 12,
      "outputs": [
        {
          "output_type": "stream",
          "name": "stdout",
          "text": [
            "the original tuple list is  [(5, 6), (5, 7), (6, 8), (6, 1), (7, 3), (5, 2)]\n",
            "sorted tuple list is  [(6, 1), (5, 2), (7, 3), (5, 6), (5, 7), (6, 8)]\n"
          ]
        }
      ]
    },
    {
      "cell_type": "code",
      "source": [
        "#Q5 Pyhton program to order tuple using external list\n",
        "list_1=[('omkar',12),('shubham',31),('sahil',54),('rahul',2)]\n",
        "print(\"The original list is: \",list_1)\n",
        "ordered_list =['omkar','shubham','sahil','rahul']\n",
        "print(\"The ordered list is\", ordered_list)\n",
        "temp=dict(list_1)\n",
        "res=[(key,temp[key]) for key in ordered_list]\n",
        "print(\"The oredered tuple list is: \", res)"
      ],
      "metadata": {
        "colab": {
          "base_uri": "https://localhost:8080/"
        },
        "id": "lBuTuCefz4Hv",
        "outputId": "7f28802d-2c8b-4b8e-af01-84f2956953cc"
      },
      "execution_count": 10,
      "outputs": [
        {
          "output_type": "stream",
          "name": "stdout",
          "text": [
            "The original list is:  [('omkar', 12), ('shubham', 31), ('sahil', 54), ('rahul', 2)]\n",
            "The ordered list is ['omkar', 'shubham', 'sahil', 'rahul']\n",
            "The oredered tuple list is:  [('omkar', 12), ('shubham', 31), ('sahil', 54), ('rahul', 2)]\n"
          ]
        }
      ]
    },
    {
      "cell_type": "markdown",
      "source": [
        "Q7 Flatten tuple of list of tuple"
      ],
      "metadata": {
        "id": "riCDpBYBoqSO"
      }
    },
    {
      "cell_type": "code",
      "source": [
        "tuple_1 = ([5, 6], [6, 7, 8, 9], [3])\n",
        "\n",
        "print(\"The original tuple : \",tuple_1)\n",
        "res = tuple(sum(tuple_1, []))\n",
        "\n",
        "print(\"The flattened tuple : \" ,res)\n"
      ],
      "metadata": {
        "id": "pnElzvvPoq57",
        "colab": {
          "base_uri": "https://localhost:8080/"
        },
        "outputId": "e0e3b8cb-cd96-440f-f3dd-31e6f8ef8fb6"
      },
      "execution_count": 3,
      "outputs": [
        {
          "output_type": "stream",
          "name": "stdout",
          "text": [
            "The original tuple :  ([5, 6], [6, 7, 8, 9], [3])\n",
            "The flattened tuple :  (5, 6, 6, 7, 8, 9, 3)\n"
          ]
        }
      ]
    },
    {
      "cell_type": "markdown",
      "source": [
        "Q8.Python – Convert Nested Tuple to Custom Key Dictionary"
      ],
      "metadata": {
        "id": "ht5eI6Wwosmf"
      }
    },
    {
      "cell_type": "code",
      "source": [
        "Tuple_1 = ((6, 'omkar', 13), (2, 'shubham', 15), (9, 'kanishka', 12))\n",
        "\n",
        "print(\"The original tuple is : \")\n",
        "print(Tuple_1)\n",
        "\n",
        "res = [{'key': sub[0], 'value': sub[1], 'id': sub[2]}\n",
        "   for sub in Tuple_1]\n",
        "\n",
        "print(\"The converted dictionary is : \",res)\n"
      ],
      "metadata": {
        "colab": {
          "base_uri": "https://localhost:8080/"
        },
        "id": "poqdgVJZpnrp",
        "outputId": "bae19211-ef1d-4eb3-e25a-5e2e1286233e"
      },
      "execution_count": 4,
      "outputs": [
        {
          "output_type": "stream",
          "name": "stdout",
          "text": [
            "The original tuple is : \n",
            "((6, 'omkar', 13), (2, 'shubham', 15), (9, 'kanishka', 12))\n",
            "The converted dictionary is :  [{'key': 6, 'value': 'omkar', 'id': 13}, {'key': 2, 'value': 'shubham', 'id': 15}, {'key': 9, 'value': 'kanishka', 'id': 12}]\n"
          ]
        }
      ]
    },
    {
      "cell_type": "markdown",
      "source": [
        "Q9.Python Program for Binary Search (Recursive and Iterative)"
      ],
      "metadata": {
        "id": "HFdFtmK4r4lv"
      }
    },
    {
      "cell_type": "code",
      "source": [
        "#RECURSIVE\n",
        "def binary_search(list_1, low, high, elem):\n",
        "   if high >= low:\n",
        "      mid = (high + low) // 2\n",
        "      if list_1[mid] == elem:\n",
        "         return mid\n",
        "      elif list_1[mid] > elem:\n",
        "         return binary_search(list_1, low, mid - 1, elem)\n",
        "      else:\n",
        "         return binary_search(list_1, mid + 1, high, elem)\n",
        "   else:\n",
        "      return -1\n",
        "     \n",
        "list_1 = [ 1, 9, 11, 21, 34, 54, 67, 90 ]\n",
        "elem_to_search = 1\n",
        "print(\"The list is\")\n",
        "print(list_1)\n",
        "\n",
        "my_result = binary_search(list_1,0,len(list_1)-1,elem_to_search)\n",
        "\n",
        "if my_result != -1:\n",
        "   print(\"Element found at index \", str(my_result))\n",
        "else:\n",
        "   print(\"Element not found!\")"
      ],
      "metadata": {
        "colab": {
          "base_uri": "https://localhost:8080/"
        },
        "id": "rHwhxawYsznB",
        "outputId": "b83d2365-acc1-4360-96eb-9fe9a2977043"
      },
      "execution_count": 5,
      "outputs": [
        {
          "output_type": "stream",
          "name": "stdout",
          "text": [
            "The list is\n",
            "[1, 9, 11, 21, 34, 54, 67, 90]\n",
            "Element found at index  0\n"
          ]
        }
      ]
    },
    {
      "cell_type": "code",
      "source": [
        "def binary_search(list_1, low, high, elem):\n",
        "\n",
        "\tif high >= low:\n",
        "\n",
        "\t\tmid = (high + low) // 2\n",
        "\n",
        "\t\tif list_1[mid] == elem:\n",
        "\t\t\treturn mid\n",
        "\n",
        "\t\telif list_1[mid] > x:\n",
        "\t\t\treturn binary_search(list_1, low, mid - 1, elem)\n",
        "\n",
        "\t\telse:\n",
        "\t\t\treturn binary_search(list_1, mid + 1, high, x)\n",
        "\n",
        "\telse:\n",
        "\t\treturn -1\n",
        "\n",
        "list_1 = [ 1, 9, 11, 21, 34, 54, 67, 90]\n",
        "x = 1\n",
        "\n",
        "result = binary_search(list_1, 0, len(list_1)-1, x)\n",
        "\n",
        "if result != -1:\n",
        "\tprint(\"Element is present at index\", str(result))\n",
        "else:\n",
        "\tprint(\"Element is not present in array\")\n"
      ],
      "metadata": {
        "colab": {
          "base_uri": "https://localhost:8080/"
        },
        "id": "G0cf8Vl5vHX-",
        "outputId": "51224d40-3c17-4c5a-fdbb-086bf593f2c8"
      },
      "execution_count": 6,
      "outputs": [
        {
          "output_type": "stream",
          "name": "stdout",
          "text": [
            "Element is present at index 0\n"
          ]
        }
      ]
    },
    {
      "cell_type": "markdown",
      "source": [
        "Q10.python program for linear search"
      ],
      "metadata": {
        "id": "1qZ5Dpl3J0Zv"
      }
    },
    {
      "cell_type": "code",
      "source": [
        "def linear_Search(list_1, n, key):  \n",
        "       \n",
        "    for i in range(0, n):  \n",
        "        if (list_1[i] == key):  \n",
        "            return i  \n",
        "    return -1 \n",
        "list_1 = [1 ,3, 5, 4, 7, 9]  \n",
        "key = 7  \n",
        "  \n",
        "n = len(list_1)  \n",
        "res = linear_Search(list_1, n, key)  \n",
        "if(res == -1):  \n",
        "    print(\"Element not found\")  \n",
        "else:  \n",
        "    print(\"Element found at index: \", res) "
      ],
      "metadata": {
        "colab": {
          "base_uri": "https://localhost:8080/"
        },
        "id": "QuIKY9NoKfNB",
        "outputId": "e055733c-8314-40bd-a4f0-baef91ede849"
      },
      "execution_count": 7,
      "outputs": [
        {
          "output_type": "stream",
          "name": "stdout",
          "text": [
            "Element found at index:  4\n"
          ]
        }
      ]
    },
    {
      "cell_type": "markdown",
      "source": [
        "Q11.Python Program for Insertion Sort"
      ],
      "metadata": {
        "id": "Qh03epGiLknp"
      }
    },
    {
      "cell_type": "code",
      "source": [
        "def insertion_sort(list_1):  \n",
        "  \n",
        "  \n",
        "        for i in range(1, len(list_1)):  \n",
        "  \n",
        "            value = list_1[i]  \n",
        "  \n",
        "            j = i - 1  \n",
        "            while j >= 0 and value < list_1[j]:  \n",
        "                list_1[j + 1] = list_1[j]  \n",
        "                j -= 1  \n",
        "            list_1[j + 1] = value  \n",
        "        return list_1  \n",
        " \n",
        "list_1 = [10, 5, 13, 8, 2]  \n",
        "print(\"The unsorted list is:\", list_1)  \n",
        "  \n",
        "print(\"The sorted list1 is:\", insertion_sort(list_1)) "
      ],
      "metadata": {
        "id": "iE04vwHBLpz2",
        "colab": {
          "base_uri": "https://localhost:8080/"
        },
        "outputId": "0ab62121-2923-421a-d72a-035f665bda55"
      },
      "execution_count": 8,
      "outputs": [
        {
          "output_type": "stream",
          "name": "stdout",
          "text": [
            "The unsorted list is: [10, 5, 13, 8, 2]\n",
            "The sorted list1 is: [2, 5, 8, 10, 13]\n"
          ]
        }
      ]
    }
  ]
}