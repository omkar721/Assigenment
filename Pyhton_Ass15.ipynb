{
  "nbformat": 4,
  "nbformat_minor": 0,
  "metadata": {
    "colab": {
      "provenance": [],
      "collapsed_sections": []
    },
    "kernelspec": {
      "name": "python3",
      "display_name": "Python 3"
    },
    "language_info": {
      "name": "python"
    }
  },
  "cells": [
    {
      "cell_type": "markdown",
      "source": [
        "Q1.Python Program for Topological Sorting"
      ],
      "metadata": {
        "id": "_-lLmHfiqCnX"
      }
    },
    {
      "cell_type": "code",
      "execution_count": null,
      "metadata": {
        "id": "X-KZGqP3p-i7",
        "colab": {
          "base_uri": "https://localhost:8080/"
        },
        "outputId": "af4274ad-172c-4707-f2d2-09a9e60da16a"
      },
      "outputs": [
        {
          "output_type": "stream",
          "name": "stdout",
          "text": [
            "Topological Sort:\n",
            "[1, 2, 3, 4, 5, 6, 7, 8]\n"
          ]
        }
      ],
      "source": [
        "from collections import defaultdict\n",
        "class Graph:\n",
        "    def __init__(self, directed=False):\n",
        "        self.graph = defaultdict(list)\n",
        "        self.directed = directed\n",
        "\n",
        "    def Edge(self, frm, to):\n",
        "        self.graph[frm].append(to)\n",
        "\n",
        "        if self.directed is False:\n",
        "            self.graph[to].append(frm)\n",
        "        else:\n",
        "            self.graph[to] = self.graph[to]\n",
        "\n",
        "    def visit(self, s, visited, sortlist):\n",
        "        visited[s] = True\n",
        "\n",
        "        for i in self.graph[s]:\n",
        "            if not visited[i]:\n",
        "                self.visit(i, visited, sortlist)\n",
        "\n",
        "        sortlist.insert(0, s)\n",
        "\n",
        "    def topological_Sort(self):\n",
        "        visited = {i: False for i in self.graph}\n",
        "\n",
        "        sortlist = []\n",
        "       \n",
        "        for v in self.graph:\n",
        "            if not visited[v]:\n",
        "                self.visit(v, visited, sortlist)\n",
        "\n",
        "        print(sortlist)\n",
        "\n",
        "if __name__ == '__main__':\n",
        " \n",
        "    g = Graph(directed=True)\n",
        "\n",
        "    g.Edge(1, 2)\n",
        "    g.Edge(2, 3)\n",
        "    g.Edge(3, 4)\n",
        "    g.Edge(4, 5)\n",
        "    g.Edge(5, 6)\n",
        "    g.Edge(6, 7)\n",
        "    g.Edge(7, 8)\n",
        "    \n",
        "    print(\"Topological Sort:\")\n",
        "    g.topological_Sort()"
      ]
    },
    {
      "cell_type": "markdown",
      "source": [
        "Q2.Python Program for Radix Sort"
      ],
      "metadata": {
        "id": "zw8QNhv_68nu"
      }
    },
    {
      "cell_type": "code",
      "source": [
        "def counting_Sort(arr, p):\n",
        "    s = len(arr)\n",
        "    result = [0] * s\n",
        "    c = [0] * 10\n",
        "\n",
        "    for i in range(0, s):\n",
        "        index = arr[i] // p\n",
        "        c[index % 10] += 1\n",
        "\n",
        "    for i in range(1, 10):\n",
        "        c[i] += c[i - 1]\n",
        "\n",
        "    i = s - 1\n",
        "    while i >= 0:\n",
        "        index = arr[i] // p  \n",
        "        result[c[index % 10] - 1] = arr[i]\n",
        "        c[index % 10] -= 1\n",
        "        i -= 1\n",
        "        \n",
        "    for i in range(0, s):\n",
        "        arr[i] = result[i]\n",
        "\n",
        "def radix_Sort(arr):\n",
        "    maximum = max(arr)\n",
        "\n",
        "    p = 1\n",
        "    while maximum // p > 0:\n",
        "        counting_Sort(arr, p)\n",
        "        p *= 10\n",
        "array = [354, 954, 411, 9]\n",
        "print(\"The original array is: \", array)\n",
        "radix_Sort(array)\n",
        "print(\"The sorted array is: \", array)"
      ],
      "metadata": {
        "id": "C4HjitJp7BEm"
      },
      "execution_count": null,
      "outputs": []
    },
    {
      "cell_type": "markdown",
      "source": [
        "Q3.Python Program for Binary Insertion Sort"
      ],
      "metadata": {
        "id": "skjQIf8b_Qb7"
      }
    },
    {
      "cell_type": "code",
      "source": [
        "def insertion_sort(arr):\n",
        "   for i in range(1, len(arr)):\n",
        "      temp = arr[i]\n",
        "      pos = binary_search(arr, temp, 0, i) + 1\n",
        "      for k in range(i, pos, -1):\n",
        "         arr[k] = arr[k - 1]\n",
        "      arr[pos] = temp\n",
        "def binary_search(arr, key, start, end):\n",
        "\n",
        "   if end - start <= 1:\n",
        "      if key < arr[start]:\n",
        "         return start - 1\n",
        "      else:\n",
        "         return start\n",
        "   mid = (start + end)//2\n",
        "   if arr[mid] < key:\n",
        "      return binary_search(arr, key, mid, end)\n",
        "   elif arr[mid] > key:\n",
        "      return binary_search(arr, key, start, mid)\n",
        "   else:\n",
        "      return mid\n",
        "\n",
        "arr = [1,2,3,2,8,5,3,3]\n",
        "n = len(arr)\n",
        "insertion_sort(arr)\n",
        "print(\"Sorted array is:\")\n",
        "for i in range(n):\n",
        "   print(arr[i],end=\" \")"
      ],
      "metadata": {
        "colab": {
          "base_uri": "https://localhost:8080/"
        },
        "id": "HNzNdcDt_hW7",
        "outputId": "c258a4d4-0bfe-4d4e-b8b5-11972e9611f0"
      },
      "execution_count": null,
      "outputs": [
        {
          "output_type": "stream",
          "name": "stdout",
          "text": [
            "Sorted array is:\n",
            "1 2 2 3 3 3 5 8 "
          ]
        }
      ]
    },
    {
      "cell_type": "markdown",
      "source": [
        "Q4.Python Program for Bitonic Sort"
      ],
      "metadata": {
        "id": "uR2Gqmlz_06R"
      }
    },
    {
      "cell_type": "code",
      "source": [
        "def c_swap(a, b, c, d):\n",
        "    if (d == 1 and a[b] > a[c]) or (d == 0 and a[b] < a[c]):\n",
        "        a[b], a[c] = a[c], a[b]\n",
        "\n",
        "def merge(a, b, cnt, d):\n",
        "    if cnt > 1:\n",
        "        k = int(cnt / 2)\n",
        "        for i in range(b, b + k):\n",
        "            c_swap(a, i, i + k, d)\n",
        "        merge(a, b, k, d)\n",
        "        merge(a, b + k, k, d)\n",
        " \n",
        "def bitonic_sort(a, b, cnt, d):\n",
        "    if cnt > 1:\n",
        "        k = int(cnt / 2)\n",
        "        bitonic_sort(a, b, k, 1)\n",
        "        bitonic_sort(a, b + k, k, 0)\n",
        "        merge(a, b, cnt, d)\n",
        "  \n",
        "def sort(a, B, u):\n",
        "    bitonic_sort(a, 0, B, u)\n",
        "  \n",
        "a = [1, 12, 2, 6, 3, 7]\n",
        "n=len(a)\n",
        "print(\"The original array is:\", a)    \n",
        "u = 1\n",
        "  \n",
        "sort(a, n, u)\n",
        "print(\"Sorted array is\", a)\n"
      ],
      "metadata": {
        "colab": {
          "base_uri": "https://localhost:8080/"
        },
        "id": "XGlKWp-SALmi",
        "outputId": "585c3c7e-898c-4266-cabc-43260f2ca365"
      },
      "execution_count": null,
      "outputs": [
        {
          "output_type": "stream",
          "name": "stdout",
          "text": [
            "The original array is: [1, 12, 2, 6, 3, 7]\n",
            "Sorted array is [1, 3, 2, 6, 12, 7]\n"
          ]
        }
      ]
    },
    {
      "cell_type": "markdown",
      "source": [
        "Q5.Python Program for Comb Sort"
      ],
      "metadata": {
        "id": "OsehOoKcAfSl"
      }
    },
    {
      "cell_type": "code",
      "source": [
        "def combsort(num):\n",
        "    gap = len(num)\n",
        "    swaps = True\n",
        "    while gap > 1 or swaps:\n",
        "        gap = max(1, int(gap / 1.25))  \n",
        "        swaps = False\n",
        "        for i in range(len(num) - gap):\n",
        "            j = i+gap\n",
        "            if num[i] > num[j]:\n",
        "                num[i], num[j] = num[j], num[i]\n",
        "                swaps = True\n",
        " \n",
        "num_list = [75, 16, 55, 19, 48, 14, 2, 61, 22, 100]\n",
        "print(\"The old list: \", num_list)\n",
        "combsort(num_list)\n",
        "print(\"The new list:  \", num_list)"
      ],
      "metadata": {
        "colab": {
          "base_uri": "https://localhost:8080/"
        },
        "id": "rfZnFhkHAlUM",
        "outputId": "ce72a688-4a29-499a-c0c9-b116ecb3e2e6"
      },
      "execution_count": null,
      "outputs": [
        {
          "output_type": "stream",
          "name": "stdout",
          "text": [
            "The old list:  [75, 16, 55, 19, 48, 14, 2, 61, 22, 100]\n",
            "The new list:   [2, 14, 16, 19, 22, 48, 55, 61, 75, 100]\n"
          ]
        }
      ]
    },
    {
      "cell_type": "markdown",
      "source": [
        "Q6.Python Program for Pigeonhole Sort"
      ],
      "metadata": {
        "id": "WC8xHyhzA7Tf"
      }
    },
    {
      "cell_type": "code",
      "source": [
        "def pigeonhole_sort(a):\n",
        "    minimum = min(a)\n",
        "    maximum = max(a)\n",
        "    s = maximum - minimum + 1\n",
        "    h = [0] * s \n",
        "    for x in a:\n",
        "        assert type(x) is int\n",
        "        h[x - minimum] += 1\n",
        "    i = 0\n",
        "    for c in range(s):\n",
        "        while h[c] > 0:\n",
        "            h[c] -= 1\n",
        "            a[i] = c + minimum\n",
        "            i += 1\n",
        "array = [9, 7, 2, 3, 4, 8, 6]\n",
        "print(\"The original array is: \", array)\n",
        "print(\"The Sorted order is : \", end = ' ')\n",
        "pigeonhole_sort(array)      \n",
        "for i in range(0, len(array)):\n",
        "    print(array[i], end = ' ')"
      ],
      "metadata": {
        "colab": {
          "base_uri": "https://localhost:8080/"
        },
        "id": "HkjWFb7WA_IO",
        "outputId": "f787c9dd-ea8e-4b4e-a98c-e2bdaf0f4971"
      },
      "execution_count": 10,
      "outputs": [
        {
          "output_type": "stream",
          "name": "stdout",
          "text": [
            "The original array is:  [9, 7, 2, 3, 4, 8, 6]\n",
            "The Sorted order is :  2 3 4 6 7 8 9 "
          ]
        }
      ]
    },
    {
      "cell_type": "markdown",
      "source": [
        "Q7.Python Program for Cocktail Sort"
      ],
      "metadata": {
        "id": "Ghk0sTk1BS7T"
      }
    },
    {
      "cell_type": "code",
      "source": [
        "def cocktail_sort(alist):\n",
        "    def swap(i, j):\n",
        "        alist[i], alist[j] = alist[j], alist[i]\n",
        " \n",
        "    upper = len(alist) - 1\n",
        "    lower = 0\n",
        " \n",
        "    no_swap = False\n",
        "    while (not no_swap and upper - lower > 1):\n",
        "        no_swap = True\n",
        "        for j in range(lower, upper):\n",
        "            if alist[j + 1] < alist[j]:\n",
        "                swap(j + 1, j)\n",
        "                no_swap = False\n",
        "        upper = upper - 1\n",
        " \n",
        "        for j in range(upper, lower, -1):\n",
        "            if alist[j - 1] > alist[j]:\n",
        "                swap(j - 1, j)\n",
        "                no_swap = False\n",
        "        lower = lower + 1\n",
        " \n",
        " \n",
        "alist = input('Enter the list of numbers: ').split()\n",
        "alist = [int(x) for x in alist]\n",
        "cocktail_sort(alist)\n",
        "print('Sorted list: ', end='')\n",
        "print(alist)"
      ],
      "metadata": {
        "colab": {
          "base_uri": "https://localhost:8080/"
        },
        "id": "-1SjGT_RBg3k",
        "outputId": "b5ae3feb-a17d-4dc2-e57b-107133e91fd0"
      },
      "execution_count": null,
      "outputs": [
        {
          "output_type": "stream",
          "name": "stdout",
          "text": [
            "Enter the list of numbers: 1 2 3 4 5 6 7\n",
            "Sorted list: [1, 2, 3, 4, 5, 6, 7]\n"
          ]
        }
      ]
    },
    {
      "cell_type": "markdown",
      "source": [
        "Q8.Python Program for Gnome Sort"
      ],
      "metadata": {
        "id": "Lc7UHH8MCFeI"
      }
    },
    {
      "cell_type": "code",
      "source": [
        "def gnomeSort(list_1, n):\n",
        "   index = 0\n",
        "   while index < n:\n",
        "      if index == 0:\n",
        "         index = index + 1\n",
        "      if list_1[index] >= list_1[index - 1]:\n",
        "         index = index + 1\n",
        "      else:\n",
        "         list_1[index], list_1[index-1] = list_1[index-1], list_1[index]\n",
        "         index = index - 1\n",
        "   return list_1\n",
        "\n",
        "list_1 = [1,4,2,12,6,13,8,7]\n",
        "n = len(list_1)\n",
        "arr = gnomeSort(list_1, n)\n",
        "print (\"Gnome sort is:\")\n",
        "for i in list_1:\n",
        "   print (i,end=\" \")"
      ],
      "metadata": {
        "id": "VBzYF8OcCLxs",
        "colab": {
          "base_uri": "https://localhost:8080/"
        },
        "outputId": "4c0d6757-e7e3-4f3c-f1ff-7cbdd5cfffbc"
      },
      "execution_count": 5,
      "outputs": [
        {
          "output_type": "stream",
          "name": "stdout",
          "text": [
            "Gnome sort is:\n",
            "1 2 4 6 7 8 12 13 "
          ]
        }
      ]
    },
    {
      "cell_type": "markdown",
      "source": [
        "Q9.Python Program for Odd-Even Sort / Brick Sort\n"
      ],
      "metadata": {
        "id": "tdV6NReBj4We"
      }
    },
    {
      "cell_type": "code",
      "source": [
        "def oddEvenSort(list_1, n):\n",
        "   isSorted = 0\n",
        "   while isSorted == 0:\n",
        "      isSorted = 1\n",
        "      temp = 0\n",
        "      for i in range(1, n-1, 2):\n",
        "         if list_1[i] > list_1[i+1]:\n",
        "            list_1[i], list_1[i+1] = list_1[i+1], list_1[i]\n",
        "            isSorted = 0\n",
        "      for i in range(0, n-1, 2):\n",
        "         if list_1[i] > list_1[i+1]:\n",
        "            list_1[i], list_1[i+1] = list_1[i+1], list_1[i]\n",
        "            isSorted = 0\n",
        "   return\n",
        "list_1 = [1,4,2,12,6,13,8,7]\n",
        "n = len(list_1)\n",
        "oddEvenSort(list_1, n)\n",
        "print(\"Odd even sort is : \")\n",
        "for i in range(0, n):\n",
        "   print(list_1[i], end =\" \")"
      ],
      "metadata": {
        "colab": {
          "base_uri": "https://localhost:8080/"
        },
        "id": "RpTVjs2Nj8jD",
        "outputId": "88514a65-1d74-46ef-ff5e-b3ff9b0cfd07"
      },
      "execution_count": 7,
      "outputs": [
        {
          "output_type": "stream",
          "name": "stdout",
          "text": [
            "Odd even sort is : \n",
            "1 2 4 6 7 8 12 13 "
          ]
        }
      ]
    },
    {
      "cell_type": "markdown",
      "source": [
        "Q10Python Program for BogoSort or Permutation Sort"
      ],
      "metadata": {
        "id": "ARhVIds5l0-c"
      }
    },
    {
      "cell_type": "code",
      "source": [
        "import random\n",
        "\n",
        "def bogo_sort(array_1):\n",
        "\ta = len(array_1)\n",
        "\twhile (sort(array_1)== False):\n",
        "\t\tpermutation(array_1)\n",
        "\n",
        "def sort(array_1):\n",
        "\ta = len(array_1)\n",
        "\tfor i in range(0, a-1):\n",
        "\t\tif (array_1[i] > array_1[i+1] ):\n",
        "\t\t\treturn False\n",
        "\treturn True\n",
        "\n",
        "def permutation(array_1):\n",
        "\ta = len(array_1)\n",
        "\tfor i in range (0,a):\n",
        "\t\tp = random.randint(0,a-1)\n",
        "\t\tarray_1[i], array_1[p] = array_1[p], array_1[i]\n",
        "\n",
        "array_1 = [1,4,2,12,6,13,8,7]\n",
        "print(\"The original array is: \", array_1)\n",
        "bogo_sort(array_1)\n",
        "print(\"The Sorted array is :\", array_1)"
      ],
      "metadata": {
        "colab": {
          "base_uri": "https://localhost:8080/"
        },
        "id": "54FEWNewmalb",
        "outputId": "19ce13fc-b70c-45fc-e4fc-5a6c5a0cd2b0"
      },
      "execution_count": 9,
      "outputs": [
        {
          "output_type": "stream",
          "name": "stdout",
          "text": [
            "The original array is:  [1, 4, 2, 12, 6, 13, 8, 7]\n",
            "The Sorted array is : [1, 2, 4, 6, 7, 8, 12, 13]\n"
          ]
        }
      ]
    }
  ]
}