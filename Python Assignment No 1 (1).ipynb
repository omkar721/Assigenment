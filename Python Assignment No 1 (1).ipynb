{
 "cells": [
  {
   "cell_type": "markdown",
   "id": "c908e6c8",
   "metadata": {},
   "source": [
    "Q1 . Write a Python program to find those numbers which are divisible by\n",
    "7 and multiple of 5, between 1500 and 2700 (both included)"
   ]
  },
  {
   "cell_type": "code",
   "execution_count": null,
   "id": "112f84c3",
   "metadata": {},
   "outputs": [],
   "source": [
    "for i in range(1500 , 2700):\n",
    "    if i%7==0 and i%5==0:\n",
    "        print(\"\",i)"
   ]
  },
  {
   "cell_type": "markdown",
   "id": "f160ad1e",
   "metadata": {},
   "source": [
    "Q2 . Python program to add two numbers"
   ]
  },
  {
   "cell_type": "code",
   "execution_count": null,
   "id": "66f9029a",
   "metadata": {},
   "outputs": [],
   "source": [
    "Num_1 = 1\n",
    "Num_2 = 2\n",
    "Sum = Num_1 + Num_2\n",
    "print(Sum)"
   ]
  },
  {
   "cell_type": "markdown",
   "id": "33ca8757",
   "metadata": {},
   "source": [
    "Q3 . Maximum of two numbers in Python"
   ]
  },
  {
   "cell_type": "code",
   "execution_count": null,
   "id": "b18f7a20",
   "metadata": {},
   "outputs": [],
   "source": [
    "A = 1\n",
    "B = 5\n",
    "\n",
    "maximum = max(A , B)\n",
    "print(maximum)"
   ]
  },
  {
   "cell_type": "markdown",
   "id": "633bf478",
   "metadata": {},
   "source": [
    "Q4. Python Program for factorial of a number"
   ]
  },
  {
   "cell_type": "code",
   "execution_count": null,
   "id": "1f1e5dd4",
   "metadata": {},
   "outputs": [],
   "source": [
    "def factorial(n):\n",
    "    num = 4\n",
    "    print(\"Factorial of\",num,\"is\",\n",
    "          factorial(num))"
   ]
  },
  {
   "cell_type": "markdown",
   "id": "168536e3",
   "metadata": {},
   "source": [
    "Q5 Python Program for simple interest?"
   ]
  },
  {
   "cell_type": "code",
   "execution_count": null,
   "id": "9f4a022f",
   "metadata": {},
   "outputs": [],
   "source": [
    "P = int(input(\"Enter the principle:\"))\n",
    "R = int(input(\"Enter the rate:\"))\n",
    "T = int(input(\"Enter the time:\"))\n",
    "simple_interest = (P*R*T)/100\n",
    "print(simple_interest)"
   ]
  },
  {
   "cell_type": "markdown",
   "id": "65f2e48f",
   "metadata": {},
   "source": [
    "Q6. Python Program for compound interest\n"
   ]
  },
  {
   "cell_type": "code",
   "execution_count": null,
   "id": "cba33244",
   "metadata": {},
   "outputs": [],
   "source": [
    "p = int(input(\"Enter principle : \"))\n",
    "t = int(input(\"Enter time: \"))\n",
    "r = int (input(\"Enter rate: \"))\n",
    "\n",
    "Compound_interest =p*(pow((1+r/100),t))\n",
    "Compound_interest = Compound_interest - p\n",
    "print('Compound_interest is' ,Compound_interest)\n"
   ]
  },
  {
   "cell_type": "markdown",
   "id": "17bd2538",
   "metadata": {},
   "source": [
    " Q7 .Python Program to check Armstrong Number\n",
    " "
   ]
  },
  {
   "cell_type": "code",
   "execution_count": null,
   "id": "5ec9743b",
   "metadata": {},
   "outputs": [],
   "source": [
    "num =int(input(\"Enter the number :\"))\n",
    "#first of all we assign all the variables\n",
    "\n",
    "order = len(str(num))\n",
    "sum = 0\n",
    "temp = num\n",
    "\n",
    "while temp > 0:\n",
    "   digit = temp % 10\n",
    "   sum += digit ** order\n",
    "   temp //= 10\n",
    "\n",
    "if num == sum:\n",
    "   print(num,\"is an Armstrong number\")\n",
    "else:\n",
    "   print(num,\"is not an Armstrong number\")"
   ]
  },
  {
   "cell_type": "markdown",
   "id": "3c319007",
   "metadata": {},
   "source": [
    "Q8. Python Program for program to find area of a circle\n"
   ]
  },
  {
   "cell_type": "code",
   "execution_count": null,
   "id": "d8541761",
   "metadata": {},
   "outputs": [],
   "source": [
    "Radius = float(input(\"Enter the value of radius :\"))\n",
    "Pi = 3.142\n",
    "\n",
    "Area = Pi*Radius*Radius\n",
    "print(\"area of a circle is : \",Area)"
   ]
  },
  {
   "cell_type": "markdown",
   "id": "e1e428f7",
   "metadata": {},
   "source": [
    "Q9.Python program to print all Prime numbers in an Interval"
   ]
  },
  {
   "cell_type": "code",
   "execution_count": null,
   "id": "3ed4b6b1",
   "metadata": {},
   "outputs": [],
   "source": [
    "lower =int(input(\"Enter the first value: \"))\n",
    "upper =int(input(\"Enter the second value: \"))\n",
    "print(\"Prime numbers between\", lower, \"and\", upper, \"are:\")\n",
    "\n",
    "for num in range(lower, upper + 1):\n",
    "    if num > 1:\n",
    "        for i in range(2, num):\n",
    "            if (num % i) == 0:\n",
    "                break\n",
    "        else:\n",
    "            print(num)"
   ]
  },
  {
   "cell_type": "markdown",
   "id": "f135c80b",
   "metadata": {},
   "source": [
    "Q10. Python program to check whether a number is Prime or not\n"
   ]
  },
  {
   "cell_type": "code",
   "execution_count": null,
   "id": "307bd5cd",
   "metadata": {},
   "outputs": [],
   "source": [
    "num = int(input(\"enter the no: \"))\n",
    "\n",
    "for i in range(2,num):\n",
    "    if num % i == 0:\n",
    "        print(\"It is not a prime number\")\n",
    "        break\n",
    "else:\n",
    "        print(\"It is a prime number\")"
   ]
  }
 ],
 "metadata": {
  "kernelspec": {
   "display_name": "Python 3 (ipykernel)",
   "language": "python",
   "name": "python3"
  },
  "language_info": {
   "codemirror_mode": {
    "name": "ipython",
    "version": 3
   },
   "file_extension": ".py",
   "mimetype": "text/x-python",
   "name": "python",
   "nbconvert_exporter": "python",
   "pygments_lexer": "ipython3",
   "version": "3.9.7"
  }
 },
 "nbformat": 4,
 "nbformat_minor": 5
}
