{
  "nbformat": 4,
  "nbformat_minor": 0,
  "metadata": {
    "colab": {
      "provenance": [],
      "collapsed_sections": []
    },
    "kernelspec": {
      "name": "python3",
      "display_name": "Python 3"
    },
    "language_info": {
      "name": "python"
    }
  },
  "cells": [
    {
      "cell_type": "markdown",
      "source": [
        "Q1. Python | Convert a list of Tuples into Dictionary"
      ],
      "metadata": {
        "id": "LZU0feScEf9V"
      }
    },
    {
      "cell_type": "code",
      "execution_count": null,
      "metadata": {
        "colab": {
          "base_uri": "https://localhost:8080/"
        },
        "id": "yCWBpjfvEZKQ",
        "outputId": "a564ee9c-aa08-4d14-e3e4-4da937821af4"
      },
      "outputs": [
        {
          "output_type": "stream",
          "name": "stdout",
          "text": [
            "{'Omkar': [10], 'Rahul': [20], 'Sahil': [60], 'Shubham': [40], 'Rushikesh': [30], 'Danny': [50]}\n"
          ]
        }
      ],
      "source": [
        "list_tuples =[(\"Omkar\", 10), (\"Rahul\", 20), (\"Sahil\", 60), \n",
        "         (\"Shubham\", 40), (\"Rushikesh\", 30), (\"Danny\", 50)]\n",
        "\n",
        "dict_1=dict()\n",
        "  \n",
        "for student,score in list_tuples:\n",
        "    dict_1.setdefault(student, []).append(score)\n",
        "print(dict_1)"
      ]
    },
    {
      "cell_type": "markdown",
      "source": [
        "Q2.Python counter and dictionary intersection example (Make a string using deletion and\n",
        "rearrangement)"
      ],
      "metadata": {
        "id": "rOd3rGYcHOiR"
      }
    },
    {
      "cell_type": "code",
      "source": [
        "#For that we need two strings\n",
        "\n",
        "\n",
        "\n",
        "from collections import Counter\n",
        "string_1=input(\"Enter the string: \")\n",
        "string_2=input(\"Enter the string: \")\n",
        "\n",
        "def make_string(string_1, string_2):\n",
        "  d1 =Counter(string_1)\n",
        "  d2 =Counter(string_2)\n",
        "\n",
        "#need to make the intersection\n",
        "  inter_section = d1&d2\n",
        "\n",
        "  return inter_section==d1\n",
        "\n",
        "#string_1 = \"weloveindia\"\n",
        "#string_2 = \"xwzeslcosvzeszicndxia\"\n",
        "\n",
        "if (make_string(string_1,string_2)==True):\n",
        "  print(\"Posiible\")\n",
        "else:\n",
        "  print(\"Impossible\")"
      ],
      "metadata": {
        "id": "HJdhSYanHR7f",
        "colab": {
          "base_uri": "https://localhost:8080/"
        },
        "outputId": "5856cabc-4dea-44f4-cf1f-03e321c9098f"
      },
      "execution_count": null,
      "outputs": [
        {
          "output_type": "stream",
          "name": "stdout",
          "text": [
            "Enter the string: weloveindia\n",
            "Enter the string: xwzeslcosvzeszicndxia\n",
            "Posiible\n"
          ]
        }
      ]
    },
    {
      "cell_type": "markdown",
      "source": [
        "Q3.Python dictionary, set and counter to check if frequencies can become same"
      ],
      "metadata": {
        "id": "-oBxY2NQH3DW"
      }
    },
    {
      "cell_type": "code",
      "source": [
        "from collections import Counter\n",
        "def check_all_same(my_input):\n",
        "   my_dict = Counter(my_input)\n",
        "   input_2 = list(set(my_dict.values()))\n",
        "   if len(input_2)>2:\n",
        "      print('The frequencies are not same')\n",
        "   elif len (input_2)==2 and input_2[1]-input_2[0]>1:\n",
        "      print('The frequencies are not same')\n",
        "   else:\n",
        "      print('The frequencies are same')\n",
        "\n",
        "my_str = 'aabbccdfhdhfgdfh'\n",
        "print(\"The string is :\" , my_str)\n",
        "check_all_same(my_str)"
      ],
      "metadata": {
        "colab": {
          "base_uri": "https://localhost:8080/"
        },
        "id": "Y82eyY_kH70u",
        "outputId": "512268dd-7641-4496-cc91-83ed7ac9ed9b"
      },
      "execution_count": 17,
      "outputs": [
        {
          "output_type": "stream",
          "name": "stdout",
          "text": [
            "The string is : aabbccdfhdhfgdfh\n",
            "The frequencies are not same\n"
          ]
        }
      ]
    },
    {
      "cell_type": "markdown",
      "source": [
        "Q4. Scraping And Finding Ordered Words In A Dictionary using Python"
      ],
      "metadata": {
        "id": "AYfXXnFZFXlR"
      }
    },
    {
      "cell_type": "code",
      "source": [
        "import requests\n",
        "  \n",
        "def getWords():\n",
        "\n",
        "    url = \"https://yoshops.com/\"\n",
        "    fetchData = requests.get(url)\n",
        "  \n",
        "\n",
        "    wordList = fetchData.content\n",
        "  \n",
        "    wordList = wordList.decode(\"utf-8\").split()\n",
        "  \n",
        "    return wordList\n",
        "  \n",
        "def isOrdered():\n",
        "  \n",
        "    collection = getWords()\n",
        "  \n",
        "    collection = collection[16:]\n",
        "    word = ''\n",
        "  \n",
        "    for word in collection:\n",
        "        result = 'Word is ordered'\n",
        "        i = 0\n",
        "        l = len(word) - 1\n",
        "  \n",
        "        if (len(word) < 3):\n",
        "            continue\n",
        "        while i < l:         \n",
        "            if (ord(word[i]) > ord(word[i+1])):\n",
        "                result = 'Word is not ordered'\n",
        "                break\n",
        "            else:\n",
        "                i += 1\n",
        "  \n",
        "        if (result == 'Word is ordered'):\n",
        "            print(word,': ',result)\n",
        "  \n",
        "  \n",
        "if __name__ == '__main__':\n",
        "    isOrdered()"
      ],
      "metadata": {
        "colab": {
          "base_uri": "https://localhost:8080/"
        },
        "id": "z-YFIxioMG91",
        "outputId": "ae53eae9-0880-44d1-c750-d8054d5a280b"
      },
      "execution_count": 22,
      "outputs": [
        {
          "output_type": "stream",
          "name": "stdout",
          "text": [
            "access :  Word is ordered\n"
          ]
        }
      ]
    },
    {
      "cell_type": "markdown",
      "source": [
        "Q5. Possible Words using given characters in Python"
      ],
      "metadata": {
        "id": "2ae6lsOuM63o"
      }
    },
    {
      "cell_type": "code",
      "source": [
        "def Countchar(word):\n",
        "    dict = {}\n",
        "    for i in word:\n",
        "        dict[i] = dict.get(i, 0) + 1\n",
        "    return dict\n",
        "def find_words(word_list, charSet):\n",
        "    for word in word_list:\n",
        "        flag = 1\n",
        "        chars = Countchar(word)\n",
        "        for key in chars:\n",
        "            if key not in charSet:\n",
        "                flag = 0\n",
        "            else:\n",
        "                if charSet.count(key) != chars[key]:\n",
        "                    flag = 0\n",
        "        if flag == 1:\n",
        "            print(word)\n",
        "# input            \n",
        "word_list = ['mat', 'boy', 'bat', 'goal', 'get', 'got', 'orange']\n",
        "charSet = ['e', 'o', 'b', 'a', 'g', 'l', 't']\n",
        "find_words(word_list, charSet)"
      ],
      "metadata": {
        "colab": {
          "base_uri": "https://localhost:8080/"
        },
        "id": "KCnE8I0mNQmM",
        "outputId": "a1859832-3bd6-4812-dfa4-4c9e0e96c657"
      },
      "execution_count": null,
      "outputs": [
        {
          "output_type": "stream",
          "name": "stdout",
          "text": [
            "bat\n",
            "goal\n",
            "get\n",
            "got\n"
          ]
        }
      ]
    },
    {
      "cell_type": "markdown",
      "source": [
        "Q6. Python – Keys associated with Values in Dictionary"
      ],
      "metadata": {
        "id": "qGyznT_xNri_"
      }
    },
    {
      "cell_type": "code",
      "source": [
        "my_dict ={\"Hi\":100, \"there\":121, \"Mark\":189}\n",
        "print(\"The dictionary is :\")\n",
        "print(my_dict)\n",
        "\n",
        "dict_key = list(my_dict.keys())\n",
        "print(\"The keys in the dictionary are :\")\n",
        "print(dict_key)\n",
        "dict_val = list(my_dict.values())\n",
        "print(\"The values in the dictionary are :\")\n",
        "print(dict_val)\n",
        "\n",
        "my_position = dict_val.index(100)\n",
        "print(\"The value at position 100 is : \")\n",
        "print(dict_key[my_position])\n",
        "\n",
        "my_position = dict_val.index(189)\n",
        "print(\"The value at position 189 is\")\n",
        "print(dict_key[my_position])"
      ],
      "metadata": {
        "id": "H-Q-hkXaOIIg"
      },
      "execution_count": null,
      "outputs": []
    },
    {
      "cell_type": "markdown",
      "source": [
        "Q7.\n",
        "Python program to Find the size of a Tuple\n",
        "\n",
        "\n",
        "\n"
      ],
      "metadata": {
        "id": "gm9XEMmVOMzH"
      }
    },
    {
      "cell_type": "code",
      "source": [
        "tup1= (\"Study\",\"tonight\", 1, 3)\n",
        "tup2= (\"Python\", \"Language\")\n",
        "tup3= ((1,\"Java\"), (2, \"Python\"), (3, \"C\"))\n",
        "\n",
        "#print size\n",
        "print(\"Size of tuple1: \", tup1.__sizeof__(), \"bytes\")\n",
        "print(\"Size of tuple2: \", tup2.__sizeof__(), \"bytes\")\n",
        "print(\"Size of tuple3: \", tup3.__sizeof__(), \"bytes\")"
      ],
      "metadata": {
        "id": "Rvre-mLuOf4c"
      },
      "execution_count": null,
      "outputs": []
    },
    {
      "cell_type": "markdown",
      "source": [
        "Q8.Python – Maximum and Minimum K elements in Tuple"
      ],
      "metadata": {
        "id": "ktAiVdS1kkhi"
      }
    },
    {
      "cell_type": "code",
      "source": [
        "myTuple = (4, 9, 1, 7, 3, 6, 5, 2)\n",
        "K = 2\n",
        "\n",
        "sortedColl = sorted(list(myTuple))\n",
        "vals = []\n",
        "for i in range(K):\n",
        "    vals.append(sortedColl[i])\n",
        "    \n",
        "for i in range((len(sortedColl) - K), len(sortedColl)):\n",
        "    vals.append(sortedColl[i])\n",
        "\n",
        "print(\"Tuple : \", str(myTuple))\n",
        "print(\"K maximum and minimum values : \", str(vals))\n"
      ],
      "metadata": {
        "colab": {
          "base_uri": "https://localhost:8080/"
        },
        "id": "NizKY5t9km4K",
        "outputId": "a2e773e7-e7c9-4f51-bef3-e149df41633e"
      },
      "execution_count": null,
      "outputs": [
        {
          "output_type": "stream",
          "name": "stdout",
          "text": [
            "Tuple :  (4, 9, 1, 7, 3, 6, 5, 2)\n",
            "K maximum and minimum values :  [1, 2, 7, 9]\n"
          ]
        }
      ]
    },
    {
      "cell_type": "markdown",
      "source": [
        "Q9.Create a list of tuples from given list having number and its cube in each tuple"
      ],
      "metadata": {
        "id": "D90k4MPaOnYC"
      }
    },
    {
      "cell_type": "code",
      "source": [
        "list_1 =[1,2,3,4]\n",
        "\n",
        "\n",
        "res = [(val, val**3) for val in list_1]\n",
        "\n",
        "print(res)"
      ],
      "metadata": {
        "colab": {
          "base_uri": "https://localhost:8080/"
        },
        "id": "CpRa5r_1oHFx",
        "outputId": "89ed6897-e0e7-4b18-a2be-b18015e718fd"
      },
      "execution_count": null,
      "outputs": [
        {
          "output_type": "stream",
          "name": "stdout",
          "text": [
            "[(1, 1), (2, 8), (3, 27), (4, 64)]\n"
          ]
        }
      ]
    },
    {
      "cell_type": "markdown",
      "source": [
        "Q10. Python – Adding Tuple to List and vice – versa"
      ],
      "metadata": {
        "id": "UMCVnuF6plES"
      }
    },
    {
      "cell_type": "code",
      "source": [
        "test_list = [5, 6, 7]\n",
        "\n",
        "print(\"The original list is : \" , test_list)\n",
        "\n",
        "\n",
        "test_tup = (9, 10)\n",
        "test_list += test_tup\n",
        "\n",
        "print(\"The container after addition : \" + str(test_list))\n"
      ],
      "metadata": {
        "colab": {
          "base_uri": "https://localhost:8080/"
        },
        "id": "2VAFtsJqpdck",
        "outputId": "8553e234-fdff-4427-eedd-7de2ea945e7c"
      },
      "execution_count": 24,
      "outputs": [
        {
          "output_type": "stream",
          "name": "stdout",
          "text": [
            "The original list is :  [5, 6, 7]\n",
            "The container after addition : [5, 6, 7, 9, 10]\n"
          ]
        }
      ]
    },
    {
      "cell_type": "markdown",
      "source": [
        "Q11.Python – Closest Pair to Kth index element in Tuple"
      ],
      "metadata": {
        "id": "ubzaPHSlqszi"
      }
    },
    {
      "cell_type": "code",
      "source": [
        "my_list = [(5, 6), (66, 76), (21, 35), (90, 8), (9, 0)]\n",
        "\n",
        "print(\"The list is : \")\n",
        "print(my_list)\n",
        "\n",
        "my_tuple = (17, 23)\n",
        "print(\"The tuple is \")\n",
        "print(my_tuple)\n",
        "K = 2\n",
        "print(\"The value of K has been initialized to \")\n",
        "print(K)\n",
        "\n",
        "min_diff, my_result = 999999999, None\n",
        "for idx, val in enumerate(my_list):\n",
        "   diff = abs(my_tuple[K - 1] - val[K - 1])\n",
        "   if diff < min_diff:\n",
        "      min_diff, my_result = diff, idx\n",
        "\n",
        "print(\"The tuple nearest to Kth index element is : \" )\n",
        "print(my_list[my_result])"
      ],
      "metadata": {
        "colab": {
          "base_uri": "https://localhost:8080/"
        },
        "id": "RtAesY9sqF9c",
        "outputId": "2d8c7960-be1d-4b86-c33c-29bc11fc41bb"
      },
      "execution_count": null,
      "outputs": [
        {
          "output_type": "stream",
          "name": "stdout",
          "text": [
            "The list is : \n",
            "[(5, 6), (66, 76), (21, 35), (90, 8), (9, 0)]\n",
            "The tuple is \n",
            "(17, 23)\n",
            "The value of K has been initialized to \n",
            "2\n",
            "The tuple nearest to Kth index element is : \n",
            "(21, 35)\n"
          ]
        }
      ]
    }
  ]
}