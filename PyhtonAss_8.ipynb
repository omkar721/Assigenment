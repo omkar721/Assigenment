{
  "nbformat": 4,
  "nbformat_minor": 0,
  "metadata": {
    "colab": {
      "name": "PyhtonAss_8.ipynb",
      "provenance": []
    },
    "kernelspec": {
      "name": "python3",
      "display_name": "Python 3"
    },
    "language_info": {
      "name": "python"
    }
  },
  "cells": [
    {
      "cell_type": "markdown",
      "source": [
        "Q1.Python – Least Frequent Character in String"
      ],
      "metadata": {
        "id": "qhyG97EMKHbl"
      }
    },
    {
      "cell_type": "markdown",
      "source": [
        ""
      ],
      "metadata": {
        "id": "NgKZJLXw-sxh"
      }
    },
    {
      "cell_type": "code",
      "source": [
        "string =\"aabccddefceaf\"\n",
        "Frequency  ={}\n",
        "\n",
        "for i in string:\n",
        "  if i in Frequency:\n",
        "    Frequency[i] = Frequency[i]+1\n",
        "  else:\n",
        "    Frequency[i]= 1\n",
        "minimum = min(Frequency, key = Frequency.get)\n",
        "\n",
        "print(\"The least frequent charcter is : \",minimum )\n"
      ],
      "metadata": {
        "id": "A8Pv0NPZKL6O"
      },
      "execution_count": null,
      "outputs": []
    },
    {
      "cell_type": "markdown",
      "source": [
        "Q2. Python | Maximum frequency character in String"
      ],
      "metadata": {
        "id": "I5QnyzOmd9Wm"
      }
    },
    {
      "cell_type": "code",
      "source": [
        "string =\"aabccddefceaccf\"\n",
        "\n",
        "frequency = {}\n",
        "\n",
        "for i in string:\n",
        "    if i in frequency:\n",
        "        frequency[i]=frequency[i]+1\n",
        "    else:\n",
        "        frequency[i] = 1\n",
        "maximum= max(frequency, key = frequency.get)\n",
        "print(\"The max frequency character is : \",maximum)"
      ],
      "metadata": {
        "id": "qbVJ1-60K3dg"
      },
      "execution_count": null,
      "outputs": []
    },
    {
      "cell_type": "markdown",
      "source": [
        "Q3. Python | Program to check if a string contains any special character"
      ],
      "metadata": {
        "id": "xZ7-NbiWfFeL"
      }
    },
    {
      "cell_type": "code",
      "source": [
        "string =\"hellowelcom@tothepython\"\n",
        "\n",
        "characters =\"~!@#$%^&*():;,.<>'\"\n",
        "\n",
        "if any(cha in characters for cha in string):\n",
        "  print(\"string containes speccial character\")\n",
        "else:\n",
        "  print(\"string not containes special characters\")\n"
      ],
      "metadata": {
        "colab": {
          "base_uri": "https://localhost:8080/"
        },
        "id": "u1KkNxX8fTGk",
        "outputId": "3d6708bb-3bb7-4f09-e636-0806d46dd393"
      },
      "execution_count": null,
      "outputs": [
        {
          "output_type": "stream",
          "name": "stdout",
          "text": [
            "string containes speccial character\n"
          ]
        }
      ]
    },
    {
      "cell_type": "markdown",
      "source": [
        "Q4. Generating random strings until a given string is generated"
      ],
      "metadata": {
        "id": "0cPVflce-uKJ"
      }
    },
    {
      "cell_type": "code",
      "source": [
        "import string\n",
        "import random\n",
        "import time\n",
        "\n",
        "Characters = \"string.ascii_lowercase + string.digits +string.ascii_uppercase + ' ., !?;:'\"\n",
        "\n",
        "s = \"aa\"\n",
        "\n",
        "attemptThis = ''.join(random.choice(Characters)\n",
        "                      for i in range(len(s)))\n",
        "attemptNext = ''\n",
        "\n",
        "completed = False\n",
        "iteration = 0\n",
        "\n",
        "while completed == False:\n",
        "    print(attemptThis)\n",
        "\n",
        "    attemptNext = ''\n",
        "    completed = True\n",
        "\n",
        "        \n",
        "    for i in range(len(s)):\n",
        "        if attemptThis[i] != s[i]:\n",
        "            completed = False\n",
        "            attemptNext += random.choice(Characters)\n",
        "        else:\n",
        "            attemptNext += s[i]\n",
        "\n",
        "    \n",
        "    iteration += 1\n",
        "    attemptThis = attemptNext\n",
        "    time.sleep(0.1)\n",
        "\n",
        "\n",
        "print(\"The string matched after \" ,\n",
        "      str(iteration) + \" iterations\")\n"
      ],
      "metadata": {
        "id": "cywTQ2J4AA79",
        "colab": {
          "base_uri": "https://localhost:8080/"
        },
        "outputId": "1dba86d8-1ef9-47ed-cde1-edcd8f0b69cf"
      },
      "execution_count": null,
      "outputs": [
        {
          "output_type": "stream",
          "name": "stdout",
          "text": [
            "nn\n",
            "ri\n",
            "rt\n",
            "_w\n",
            "il\n",
            ": \n",
            "dr\n",
            "+l\n",
            " n\n",
            "+l\n",
            " p\n",
            "gi\n",
            "sa\n",
            "ia\n",
            "sa\n",
            "na\n",
            "sa\n",
            "sa\n",
            "_a\n",
            "pa\n",
            ";a\n",
            " a\n",
            "ca\n",
            "'a\n",
            "ea\n",
            "'a\n",
            "+a\n",
            "ga\n",
            "+a\n",
            "aa\n",
            "Target matched after  30 iterations\n"
          ]
        }
      ]
    },
    {
      "cell_type": "markdown",
      "source": [
        "Q5. Find words which are greater than given length k"
      ],
      "metadata": {
        "id": "RpbJ_A66PdEg"
      }
    },
    {
      "cell_type": "code",
      "source": [
        "string =\"Hello world welcome to the python classes\"\n",
        "str1 = string.split()\n",
        "\n",
        "k=4\n",
        "\n",
        "for i in str1:\n",
        "  if len(i)>k:\n",
        "    print(i)\n"
      ],
      "metadata": {
        "id": "tjWem8lNm1jM"
      },
      "execution_count": null,
      "outputs": []
    },
    {
      "cell_type": "markdown",
      "source": [
        "Q6. Python program for removing i-th character from a string"
      ],
      "metadata": {
        "id": "_yfaxlM7vXUO"
      }
    },
    {
      "cell_type": "code",
      "source": [
        "string =input()\n",
        "c =int(input(\"enter the ith character: \"))\n",
        "\n",
        "output = string[0:c-1]\n",
        "output1 =string[c:]\n",
        "\n",
        "print(\"The final string is: \" ,output+output1)\n",
        "\n",
        "\n"
      ],
      "metadata": {
        "id": "T0T8tjwavbr-"
      },
      "execution_count": null,
      "outputs": []
    },
    {
      "cell_type": "markdown",
      "source": [
        "Q7. Python program to split and join a string"
      ],
      "metadata": {
        "id": "4plac-2y_3Yu"
      }
    },
    {
      "cell_type": "code",
      "source": [
        "string =\"hello world\"\n",
        "string1 =string.split(\" \")\n",
        "print(string1)\n",
        "A =\"-\"\n",
        "output =A.join(string1)\n",
        "print(output)"
      ],
      "metadata": {
        "id": "mT2ePLbZ0RQQ"
      },
      "execution_count": null,
      "outputs": []
    },
    {
      "cell_type": "markdown",
      "source": [
        "Q8.Python | Check if a given string is binary string or not"
      ],
      "metadata": {
        "id": "JFQ6tIctBqoj"
      }
    },
    {
      "cell_type": "code",
      "source": [
        "string=input()\n",
        "\n",
        "characters=\"01\"\n",
        "\n",
        "if any(cha in characters for cha in string):\n",
        "  print(\"The srting is binary\")\n",
        "else:\n",
        "  print(\"The string is not binary\")"
      ],
      "metadata": {
        "id": "cZz1Y1p9BuE2"
      },
      "execution_count": null,
      "outputs": []
    },
    {
      "cell_type": "markdown",
      "source": [
        "Q9.Python program to find uncommon words from two Strings"
      ],
      "metadata": {
        "id": "kLgTVTC1DYGh"
      }
    },
    {
      "cell_type": "code",
      "source": [
        "string1 = \"hello world\"\n",
        "string2 = \"hello world welcome to the python\"\n",
        "\n",
        "set1 =set(string1.split(\" \"))\n",
        "set2 =set(string2.split(\" \"))\n",
        "uncommon_words = set1.symmetric_difference(set2)\n",
        "\n",
        "print(\"The uncommon words in two strings: \" , uncommon_words)"
      ],
      "metadata": {
        "id": "1h8FKOYCDZ-u"
      },
      "execution_count": null,
      "outputs": []
    },
    {
      "cell_type": "markdown",
      "source": [
        "Q10. Python – Replace duplicate Occurrence in String"
      ],
      "metadata": {
        "id": "exBG6ta2JVji"
      }
    },
    {
      "cell_type": "code",
      "source": [
        "string =input(\"Enter the string: \")\n",
        "v= 0\n",
        "s =\"\"\n",
        "\n",
        "for i in string:\n",
        "    if string.index(i)==v:\n",
        "        s +=i\n",
        "    v+=1\n",
        "print(s)"
      ],
      "metadata": {
        "colab": {
          "base_uri": "https://localhost:8080/"
        },
        "id": "HlDiMSQmM7Wu",
        "outputId": "52715c97-162c-426a-e28c-86fcac99ffe9"
      },
      "execution_count": 2,
      "outputs": [
        {
          "output_type": "stream",
          "name": "stdout",
          "text": [
            "Enter the string: aabbccvv\n",
            "abcv\n"
          ]
        }
      ]
    }
  ]
}