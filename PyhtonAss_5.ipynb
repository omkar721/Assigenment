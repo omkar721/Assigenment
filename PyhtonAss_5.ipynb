{
  "nbformat": 4,
  "nbformat_minor": 0,
  "metadata": {
    "colab": {
      "name": "PyhtonAss_5.ipynb",
      "provenance": []
    },
    "kernelspec": {
      "name": "python3",
      "display_name": "Python 3"
    },
    "language_info": {
      "name": "python"
    }
  },
  "cells": [
    {
      "cell_type": "markdown",
      "source": [
        "Q1. Python program to print all negative numbers in a range"
      ],
      "metadata": {
        "id": "ekVn_XzVH5oe"
      }
    },
    {
      "cell_type": "code",
      "source": [
        "start = int(input(\"Enter the strating range: \"))\n",
        "end = int(input(\"Enter the ending range: \"))\n",
        "\n",
        "for i in range(start , end+1):\n",
        "  if i<=0:\n",
        "    print(\"the negative numbers in given range:\" ,i )"
      ],
      "metadata": {
        "id": "LutRe_A4H_5M"
      },
      "execution_count": null,
      "outputs": []
    },
    {
      "cell_type": "markdown",
      "source": [
        "Q2. Remove multiple elements from a list in Python"
      ],
      "metadata": {
        "id": "2_mb6_JXHt1h"
      }
    },
    {
      "cell_type": "code",
      "source": [
        "#Removing even numbers from a list\n",
        "\n",
        "\n",
        "list = [1,2,3,4,5,6,7,8,9]\n",
        "\n",
        "for i in list:\n",
        "  if i%2==0:\n",
        "    print(i)\n"
      ],
      "metadata": {
        "id": "4KNajkQPqPGA"
      },
      "execution_count": null,
      "outputs": []
    },
    {
      "cell_type": "code",
      "source": [
        "#Removing the odd elements in list\n",
        "\n",
        "list = [1,2,3,4,5,6,7,8,9]\n",
        "\n",
        "for i in list:\n",
        "  if i%2!=0:\n",
        "    print(i)"
      ],
      "metadata": {
        "id": "3zqqxryoq8gz"
      },
      "execution_count": null,
      "outputs": []
    },
    {
      "cell_type": "markdown",
      "source": [
        "Q3. write a Python program to Remove empty List from List"
      ],
      "metadata": {
        "id": "B9_FzCD9rOqb"
      }
    },
    {
      "cell_type": "code",
      "source": [
        "list_1 =[1,2,3,4,[],6,[],8]\n",
        "\n",
        "print(\"the first list is:\", list_1)\n",
        "\n",
        "list_2 = [i for i in list_1 if i != []]\n",
        "\n",
        "print(\"the final list is:\", list_2)\n"
      ],
      "metadata": {
        "id": "nwddPU0-7zHX"
      },
      "execution_count": null,
      "outputs": []
    },
    {
      "cell_type": "markdown",
      "source": [
        "Q4. write a Python program to Cloning or Copying a list"
      ],
      "metadata": {
        "id": "xvr9_BmnOLSV"
      }
    },
    {
      "cell_type": "code",
      "source": [
        "list_1 = [1,2,3,4,5,6,12,48,56]\n",
        "\n",
        "coppied_list = list(list_1)\n",
        "print(\"the original list is:\",list_1)\n",
        "\n",
        "print(\"the coppied or cloned list is:\", coppied_list)"
      ],
      "metadata": {
        "id": "PYVnczOlORTk"
      },
      "execution_count": null,
      "outputs": []
    },
    {
      "cell_type": "markdown",
      "source": [
        "Q5. write a Python program to Count occurrences of an element in a list"
      ],
      "metadata": {
        "id": "RFQ2mzLFTaGo"
      }
    },
    {
      "cell_type": "code",
      "source": [
        "import pandas as pd\n",
        "\n",
        "sample_list = [1,2,3,3,4,5,5,6,9,8,5,1]\n",
        "count = pd.Series(sample_list).value_counts()\n",
        "print(count[5])"
      ],
      "metadata": {
        "id": "AnddKCK_Wo6Y"
      },
      "execution_count": null,
      "outputs": []
    },
    {
      "cell_type": "markdown",
      "source": [
        "Q6. write a Python program to Remove empty tuples from a list"
      ],
      "metadata": {
        "id": "Vw-ylrOvXPKS"
      }
    },
    {
      "cell_type": "code",
      "source": [
        "def Remove(tuples):\n",
        "\ttuples = [t for t in tuples if t]\n",
        "\treturn tuples\n",
        "\n",
        "tuples = [(), ('5','15','8'), (), ('Ram', 'sita'), \n",
        "          ('6', '2', '45'), ('1.1','3'),()] \n",
        "print(Remove(tuples))\n"
      ],
      "metadata": {
        "id": "YbahD5oHXVRs"
      },
      "execution_count": null,
      "outputs": []
    },
    {
      "cell_type": "markdown",
      "source": [
        "Q7. write a Python program to Program to print duplicates from a list of integers"
      ],
      "metadata": {
        "id": "FTzwyEI70MoR"
      }
    },
    {
      "cell_type": "code",
      "source": [
        "list_1 = [1,23,2,3,4,5,6,5,6,5,6,7,8,8,9,2]\n",
        " \n",
        "new = []  \n",
        " \n",
        "for a in list_1:\n",
        "  n = list_1.count(a)\n",
        "  if n > 1:\n",
        "    if new.count(a) == 0:\n",
        "      new.append(a)\n",
        " \n",
        "     \n",
        "print(new)    "
      ],
      "metadata": {
        "id": "yd0HP6HwZU9E"
      },
      "execution_count": null,
      "outputs": []
    },
    {
      "cell_type": "markdown",
      "source": [
        ""
      ],
      "metadata": {
        "id": "Rg_p0hxWAB_n"
      }
    },
    {
      "cell_type": "markdown",
      "source": [
        "Q8. write a Python program to find Cumulative sum of a list"
      ],
      "metadata": {
        "id": "Ujp7LUaDACDB"
      }
    },
    {
      "cell_type": "code",
      "source": [
        "def cumSum(s):\n",
        "   sum=0\n",
        "   cum_list=[]\n",
        "   for i in s:\n",
        "      sum=sum+i\n",
        "      cum_list.append(sum)\n",
        "   return cum_list\n",
        "\n",
        "a=[1,2,3,4,5,6,7,8,9]\n",
        "print(cumSum(a))"
      ],
      "metadata": {
        "id": "dkLBsajxDxF9"
      },
      "execution_count": null,
      "outputs": []
    },
    {
      "cell_type": "markdown",
      "source": [
        "Q9. write a python program to find the sum of number digit in list "
      ],
      "metadata": {
        "id": "WuMNsIq2EtnU"
      }
    },
    {
      "cell_type": "code",
      "source": [
        "list_1 = [11, 23, 41, 62, 89, 0, 10]\n",
        "print(\"The original list is : \")\n",
        "print(list_1)\n",
        "new_list = []\n",
        "for elem in list_1:\n",
        "   sum_val = 0\n",
        "   for digit in str(elem):\n",
        "      sum_val += int(digit)\n",
        "   new_list.append(sum_val)\n",
        "print (\"The final list of sum of number digit : \" )\n",
        "print(new_list)"
      ],
      "metadata": {
        "id": "EyT9TQILGV5n"
      },
      "execution_count": null,
      "outputs": []
    },
    {
      "cell_type": "markdown",
      "source": [
        "Q10. write a Python program to Break a list into chunks of size N "
      ],
      "metadata": {
        "id": "gfoKQZ_HIQnY"
      }
    },
    {
      "cell_type": "code",
      "source": [
        "\n",
        "\n",
        "import numpy as np\n",
        "list_1 = [\"Omkar\",5,4,3,\"Aryan\",1,\"ineuron\",2,7]\n",
        "\n",
        "print(np.array_split(list_1, 4))"
      ],
      "metadata": {
        "id": "seb5LU0vRcdg"
      },
      "execution_count": null,
      "outputs": []
    },
    {
      "cell_type": "code",
      "source": [
        "list_1 = [\"Omkar\",5,4,3,\"Aryan\",1,\"ineuron\",2,7]\n",
        "\n",
        "def chunks(l, n):\n",
        "\tfor i in range(0, len(l), n):\n",
        "\t\tyield l[i:i + n]\n",
        "n = 2\n",
        "\n",
        "x = list(chunks(list_1, n))\n",
        "print (x)\n"
      ],
      "metadata": {
        "id": "eLF9AR5jTMan"
      },
      "execution_count": null,
      "outputs": []
    },
    {
      "cell_type": "markdown",
      "source": [
        "Q11. write a Python program to Sort the values of first list using second list"
      ],
      "metadata": {
        "id": "G5NVdiIvT2eH"
      }
    },
    {
      "cell_type": "code",
      "source": [
        "def sort_list(list_1, list_2):\n",
        "\n",
        "\tzipped_pairs = zip(list_2, list_1)\n",
        "\n",
        "\tz = [x for _, x in sorted(zipped_pairs)]\n",
        "\t\n",
        "\treturn z\n",
        "list_1 =['a','f','r','t','y','a','b','c','u','i','o','p']\n",
        "list_2 =[0,0,1,2,3,3,2,2,0,0,4,4]\n",
        "print(\"The sorted list using 2nd list is: \",sort_list(list_1,list_2))\n"
      ],
      "metadata": {
        "id": "O_U76wAp6Unk"
      },
      "execution_count": null,
      "outputs": []
    }
  ]
}