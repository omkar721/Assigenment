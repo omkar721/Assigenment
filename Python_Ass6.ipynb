{
  "nbformat": 4,
  "nbformat_minor": 0,
  "metadata": {
    "colab": {
      "name": "Python_Ass6.ipynb",
      "provenance": [],
      "collapsed_sections": []
    },
    "kernelspec": {
      "name": "python3",
      "display_name": "Python 3"
    },
    "language_info": {
      "name": "python"
    }
  },
  "cells": [
    {
      "cell_type": "markdown",
      "source": [
        "Q1. Python program to add two Matrices"
      ],
      "metadata": {
        "id": "3wZ4zQHcCZbB"
      }
    },
    {
      "cell_type": "code",
      "source": [
        "A = [[2,1,4],\n",
        "     [4,5,6],\n",
        "     [7,8,9]]\n",
        "\n",
        "B = [[5,8,1],\n",
        "     [6,7,3],\n",
        "     [4,5,9]]\n",
        "\n",
        "\n",
        "Result =  [[0,0,0],\n",
        "         [0,0,0],\n",
        "         [0,0,0]]     \n",
        "\n",
        "for i in range(len(A)):\n",
        "  for j in range(len(A[0])):\n",
        "    Result[i][j] = A[i][j] + B[i][j]     \n",
        "\n",
        "\n",
        "for r in Result:\n",
        "  print(r)             "
      ],
      "metadata": {
        "colab": {
          "base_uri": "https://localhost:8080/"
        },
        "id": "NKt9d7An9ATM",
        "outputId": "d6a1164a-9876-42c8-a653-c9a85d3bd81b"
      },
      "execution_count": null,
      "outputs": [
        {
          "output_type": "stream",
          "name": "stdout",
          "text": [
            "[7, 9, 5]\n",
            "[10, 12, 9]\n",
            "[11, 13, 18]\n"
          ]
        }
      ]
    },
    {
      "cell_type": "markdown",
      "source": [
        "Q2. Python program to multiply two matrices"
      ],
      "metadata": {
        "id": "eItGbkao_CBA"
      }
    },
    {
      "cell_type": "code",
      "source": [
        "A = [[2,1,4],\n",
        "     [4,5,6],\n",
        "     [7,8,9]]\n",
        "\n",
        "B = [[5,8,1],\n",
        "     [6,7,3],\n",
        "     [4,5,9]]\n",
        "\n",
        "\n",
        "Result =  [[0,0,0],\n",
        "         [0,0,0],\n",
        "         [0,0,0]] \n",
        "\n",
        "for i in range(len(A)):\n",
        "  for j in range(len(A[0])):\n",
        "    Result[i][j] = A[i][j] * B[i][j]\n",
        "\n",
        "\n",
        "for r in Result:\n",
        "  print(r)            "
      ],
      "metadata": {
        "colab": {
          "base_uri": "https://localhost:8080/"
        },
        "id": "u1HenhD6_F81",
        "outputId": "a0accd15-7913-4c00-f9ba-bfa382f37ba0"
      },
      "execution_count": null,
      "outputs": [
        {
          "output_type": "stream",
          "name": "stdout",
          "text": [
            "[10, 8, 4]\n",
            "[24, 35, 18]\n",
            "[28, 40, 81]\n"
          ]
        }
      ]
    },
    {
      "cell_type": "markdown",
      "source": [
        "Q3.Python program for Matrix Product"
      ],
      "metadata": {
        "id": "kmE88FtvAA5f"
      }
    },
    {
      "cell_type": "code",
      "source": [
        "A = [[5,7,6],\n",
        "     [3,9,6],\n",
        "     [7,4,9]]\n",
        "\n",
        "B = [[11,8,1],\n",
        "     [6,10,3],\n",
        "     [3,5,4]]\n",
        "\n",
        "\n",
        "Result =  [[0,0,0],\n",
        "         [0,0,0],\n",
        "         [0,0,0]] \n",
        "\n",
        "for i in range(len(A)):\n",
        "  for j in range(len(A[0])):\n",
        "    Result [i][j] =  A[i][j] * B[i][j]\n",
        "\n",
        "\n",
        "for r in Result:\n",
        "  print(r)\n"
      ],
      "metadata": {
        "colab": {
          "base_uri": "https://localhost:8080/"
        },
        "id": "Hxt8Us5x_6qT",
        "outputId": "0d1a5098-4d32-4fa8-8c82-0e42caded55a"
      },
      "execution_count": null,
      "outputs": [
        {
          "output_type": "stream",
          "name": "stdout",
          "text": [
            "[55, 56, 6]\n",
            "[18, 90, 18]\n",
            "[21, 20, 36]\n"
          ]
        }
      ]
    },
    {
      "cell_type": "markdown",
      "source": [
        "Q4. Adding and Subtracting Matrices in Python"
      ],
      "metadata": {
        "id": "BQjGnrEaBNi4"
      }
    },
    {
      "cell_type": "code",
      "source": [
        "#Addition of matrix \n",
        "\n",
        "X = [[5,7,6],\n",
        "     [3,9,6],\n",
        "     [7,4,9]]\n",
        "\n",
        "Y = [[11,8,1],\n",
        "     [6,10,3],\n",
        "     [3,5,4]]\n",
        "\n",
        "\n",
        "Result =  [[0,0,0],\n",
        "         [0,0,0],\n",
        "         [0,0,0]] \n",
        "\n",
        "\n",
        "for i in range(len(X)):\n",
        "  for j in range(len(X[0])):\n",
        "    Result [i][j] =  X[i][j] +  Y[i][j]  \n",
        "\n",
        "for r in Result:\n",
        "  print(r)          "
      ],
      "metadata": {
        "colab": {
          "base_uri": "https://localhost:8080/"
        },
        "id": "0r3Oi7R0BTLI",
        "outputId": "2e06a52e-c0f1-4eee-c82f-40c13df328c9"
      },
      "execution_count": null,
      "outputs": [
        {
          "output_type": "stream",
          "name": "stdout",
          "text": [
            "[16, 15, 7]\n",
            "[9, 19, 9]\n",
            "[10, 9, 13]\n"
          ]
        }
      ]
    },
    {
      "cell_type": "code",
      "source": [
        "#Subtracting matrix\n",
        "\n",
        "X = [[5,7,6],\n",
        "     [3,9,6],\n",
        "     [7,4,9]]\n",
        "\n",
        "Y = [[11,8,1],\n",
        "     [6,10,3],\n",
        "     [3,5,4]]\n",
        "\n",
        "\n",
        "Result =  [[0,0,0],\n",
        "         [0,0,0],\n",
        "         [0,0,0]] \n",
        "\n",
        "\n",
        "for i in range(len(X)):\n",
        "  for j in range(len(X[0])):\n",
        "    Result [i][j] =  X[i][j] - Y[i][j]  \n",
        "\n",
        "for r in Result:\n",
        "  print(r)              "
      ],
      "metadata": {
        "colab": {
          "base_uri": "https://localhost:8080/"
        },
        "id": "THQzVeVpCBJD",
        "outputId": "78eeb665-4cbb-4511-dd03-9d5ba72d64f4"
      },
      "execution_count": null,
      "outputs": [
        {
          "output_type": "stream",
          "name": "stdout",
          "text": [
            "[-6, -1, 5]\n",
            "[-3, -1, 3]\n",
            "[4, -1, 5]\n"
          ]
        }
      ]
    },
    {
      "cell_type": "markdown",
      "source": [
        "Q5. Transpose a matrix in Single line in Python"
      ],
      "metadata": {
        "id": "1f0vQuXkCUW3"
      }
    },
    {
      "cell_type": "code",
      "source": [
        "import numpy as np\n",
        "\n",
        "\n",
        "A = [[2,1,4],\n",
        "     [4,5,6],\n",
        "     [7,8,9]]\n",
        "\n",
        "\n",
        "\n",
        "\n",
        "C = np.transpose(A)\n",
        "print(C)     "
      ],
      "metadata": {
        "colab": {
          "base_uri": "https://localhost:8080/"
        },
        "id": "lxnrs2FtCYK5",
        "outputId": "7046cf0d-df78-4dc5-916c-fe3f4a360a5d"
      },
      "execution_count": null,
      "outputs": [
        {
          "output_type": "stream",
          "name": "stdout",
          "text": [
            "[[2 4 7]\n",
            " [1 5 8]\n",
            " [4 6 9]]\n"
          ]
        }
      ]
    },
    {
      "cell_type": "markdown",
      "source": [
        "Q6. Python | Matrix creation of n*n"
      ],
      "metadata": {
        "id": "0alDHu_BEdHo"
      }
    },
    {
      "cell_type": "code",
      "source": [
        "N = 3\n",
        "\n",
        "New_matrix = [list(range(1 + N * i, 1 + N * (i + 1))) for i in range(N)]\n",
        "\n",
        "for m in New_matrix:\n",
        "    print(m)"
      ],
      "metadata": {
        "colab": {
          "base_uri": "https://localhost:8080/"
        },
        "id": "XvUhV34XEkFa",
        "outputId": "566c6b88-3dc5-489f-ff58-1a613983c0be"
      },
      "execution_count": null,
      "outputs": [
        {
          "output_type": "stream",
          "name": "stdout",
          "text": [
            "[1, 2, 3]\n",
            "[4, 5, 6]\n",
            "[7, 8, 9]\n"
          ]
        }
      ]
    },
    {
      "cell_type": "markdown",
      "source": [
        "Q7.Python | Get Kth Column of Matrix"
      ],
      "metadata": {
        "id": "QB9vGiqKG26Q"
      }
    },
    {
      "cell_type": "code",
      "source": [
        "New_matrix = [[1, 2, 3], [8, 9, 7], [4, 5, 6]]\n",
        "\n",
        "print(\"The original list is : \",New_matrix)\n",
        "\n",
        "K = 1\n",
        "\n",
        "res = [sub[K] for sub in New_matrix]\n",
        "\n",
        "print(\"The Kth column of matrix is : \" + str(res))"
      ],
      "metadata": {
        "colab": {
          "base_uri": "https://localhost:8080/"
        },
        "id": "5LNtPURHJEW_",
        "outputId": "edbb2e01-f85b-4d0b-a2a2-12f4de015fbe"
      },
      "execution_count": null,
      "outputs": [
        {
          "output_type": "stream",
          "name": "stdout",
          "text": [
            "The original list is :  [[1, 2, 3], [8, 9, 7], [4, 5, 6]]\n",
            "The Kth column of matrix is : [2, 9, 5]\n"
          ]
        }
      ]
    },
    {
      "cell_type": "markdown",
      "source": [
        "Q8.Python – Vertical Concatenation in Matrix"
      ],
      "metadata": {
        "id": "LbDJl4EbJsPn"
      }
    },
    {
      "cell_type": "code",
      "source": [
        "\n",
        "\n",
        "list_1 = [[\"Hi\", \"The\"], [\"Welcome\", \"iNeuron\"], [\"To\"]]\n",
        "\n",
        "\n",
        "print(\"The original list : \" ,list_1)\n",
        "\n",
        "res = []\n",
        "N = 0\n",
        "while N != len(list_1):\n",
        "\ttemp = ''\n",
        "\tfor idx in list_1:\n",
        "\t\t\n",
        "\t\t\n",
        "\t\ttry: temp = temp + idx[N]\n",
        "\t\texcept IndexError: pass\n",
        "\tres.append(temp)\n",
        "\tN = N + 1\n",
        "\n",
        "res = [ele for ele in res if ele]\n",
        "\n",
        "\n",
        "print(res)\n"
      ],
      "metadata": {
        "colab": {
          "base_uri": "https://localhost:8080/"
        },
        "id": "1QnZYO7Zg3m_",
        "outputId": "118611a8-7622-4b39-a8e4-e3576a62e2ab"
      },
      "execution_count": 16,
      "outputs": [
        {
          "output_type": "stream",
          "name": "stdout",
          "text": [
            "The original list :  [['Hi', 'The'], ['Welcome', 'iNeuron'], ['To']]\n",
            "['HiWelcomeTo', 'TheiNeuron']\n"
          ]
        }
      ]
    },
    {
      "cell_type": "markdown",
      "source": [
        "Q9.Python program to check if a string is palindrome or not"
      ],
      "metadata": {
        "id": "UfBabdTIp1UH"
      }
    },
    {
      "cell_type": "code",
      "source": [
        "\n",
        "def isPalindrome(s):\n",
        "    return s == s[::-1]\n",
        "s = \"dood\"\n",
        "\n",
        "ans = isPalindrome(s)\n",
        " \n",
        "print(ans)"
      ],
      "metadata": {
        "colab": {
          "base_uri": "https://localhost:8080/"
        },
        "id": "61zuuKdtp7Na",
        "outputId": "52c81bbe-0101-4a02-f5f0-e9e75ed3e9fb"
      },
      "execution_count": null,
      "outputs": [
        {
          "output_type": "stream",
          "name": "stdout",
          "text": [
            "True\n"
          ]
        }
      ]
    },
    {
      "cell_type": "markdown",
      "source": [
        "Q10. Python program to check whether the string is Symmetrical or Palindrome"
      ],
      "metadata": {
        "id": "kW8fBqWns69Y"
      }
    },
    {
      "cell_type": "code",
      "source": [
        "def SymPal(string):\n",
        "    if string==string[::-1]:\n",
        "        print(\"The given string is palindrome\")\n",
        "    else:\n",
        "        print(\"The given string is not palindrome\")\n",
        "\n",
        "    size=len(string)\n",
        "    if size%2==0:\n",
        "       half=size//2\n",
        "    if string[0:half]==string[half:size]:\n",
        "        print(\"The given string is symmentrical\")\n",
        "\n",
        "    else:\n",
        "        print(\"The given string is not symmentrical\")\n",
        "\n",
        "SymPal(\"dood\")\n"
      ],
      "metadata": {
        "colab": {
          "base_uri": "https://localhost:8080/"
        },
        "id": "RudIkraravID",
        "outputId": "dc263044-b008-4646-e3b4-14d94cce9ae2"
      },
      "execution_count": 15,
      "outputs": [
        {
          "output_type": "stream",
          "name": "stdout",
          "text": [
            "The given string is palindrome\n",
            "The given string is not symmentrical\n"
          ]
        }
      ]
    }
  ]
}