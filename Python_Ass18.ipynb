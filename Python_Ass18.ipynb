{
  "nbformat": 4,
  "nbformat_minor": 0,
  "metadata": {
    "colab": {
      "provenance": []
    },
    "kernelspec": {
      "name": "python3",
      "display_name": "Python 3"
    },
    "language_info": {
      "name": "python"
    }
  },
  "cells": [
    {
      "cell_type": "markdown",
      "source": [
        "Q1.Python – Check whether a string starts and ends with the same character or not"
      ],
      "metadata": {
        "id": "UUBIH7Hbb-is"
      }
    },
    {
      "cell_type": "code",
      "execution_count": 2,
      "metadata": {
        "colab": {
          "base_uri": "https://localhost:8080/"
        },
        "id": "Jcgjmdtzb51P",
        "outputId": "cf43ac08-7e36-4251-bda0-9ffb4af08604"
      },
      "outputs": [
        {
          "output_type": "stream",
          "name": "stdout",
          "text": [
            "Enter the string: dad\n",
            "Yes\n"
          ]
        }
      ],
      "source": [
        "import re\n",
        "string= input(\"Enter the string: \")\n",
        "\n",
        "expression = r'^[a-z]$|^([a-z]).*\\1$'\n",
        "if(re.search(expression,string)):\n",
        "  print(\"Yes\")\n",
        "else:\n",
        "  print(\"No\")\n"
      ]
    },
    {
      "cell_type": "markdown",
      "source": [
        "Q2.Python regex to find sequences of one upper case letter followed by lower case letters"
      ],
      "metadata": {
        "id": "qPfUY7R9conb"
      }
    },
    {
      "cell_type": "code",
      "source": [
        "import re\n",
        "\n",
        "string = input(\"Enter the string: \")\n",
        "\t\t\n",
        "pattern = '[A-Z]+[a-z]+$'\n",
        "\t\t\n",
        "if re.search(pattern, string):\n",
        "\tprint('Yes')\n",
        "else:\n",
        "\tprint('No')\n",
        "\n",
        "\n"
      ],
      "metadata": {
        "colab": {
          "base_uri": "https://localhost:8080/"
        },
        "id": "IAXPMybicyn7",
        "outputId": "620d04cf-5750-4dc7-e252-93f40e8516e3"
      },
      "execution_count": 5,
      "outputs": [
        {
          "output_type": "stream",
          "name": "stdout",
          "text": [
            "Enter the string: Omkar\n",
            "Yes\n"
          ]
        }
      ]
    },
    {
      "cell_type": "markdown",
      "source": [
        "Q3.Python Program to Remove duplicate words from Sentence"
      ],
      "metadata": {
        "id": "JsTavI4_d51G"
      }
    },
    {
      "cell_type": "code",
      "source": [
        "from collections import Counter \n",
        "def remove_duplicate(string):\n",
        "\n",
        "    string = string.split(\" \")\n",
        "    word_dic = Counter(string)\n",
        "    result = \" \".join(word_dic.keys())\n",
        "    print (result)\n",
        " \n",
        "string_1 = 'where where you'\n",
        "remove_duplicate(string_1)"
      ],
      "metadata": {
        "colab": {
          "base_uri": "https://localhost:8080/"
        },
        "id": "HRdgg_V6d-3a",
        "outputId": "e010dac9-6ff7-463a-c8e5-f860ca92532b"
      },
      "execution_count": 6,
      "outputs": [
        {
          "output_type": "stream",
          "name": "stdout",
          "text": [
            "where you\n"
          ]
        }
      ]
    },
    {
      "cell_type": "markdown",
      "source": [
        "Q4.Python | Remove all characters except letters and numbers"
      ],
      "metadata": {
        "id": "XXdTKHjQe04P"
      }
    },
    {
      "cell_type": "code",
      "source": [
        "import re\n",
        "\n",
        "string_1 = input(\"Enter the string: \")\n",
        "\n",
        "print (\"original string : \", string_1)\n",
        "\n",
        "result = re.sub('[\\W_]+', '', string_1)\n",
        "print (\"final string\", result)\n"
      ],
      "metadata": {
        "colab": {
          "base_uri": "https://localhost:8080/"
        },
        "id": "5pTK8RlqfOJD",
        "outputId": "7cf473bf-3e7b-4509-fb0b-136cb9a8500a"
      },
      "execution_count": 7,
      "outputs": [
        {
          "output_type": "stream",
          "name": "stdout",
          "text": [
            "Enter the string: kjkjds%^%$&%#^%&%\n",
            "original string :  kjkjds%^%$&%#^%&%\n",
            "final string kjkjds\n"
          ]
        }
      ]
    },
    {
      "cell_type": "markdown",
      "source": [
        "Q5.Python Regex | Program to accept string ending with alphanumeric character"
      ],
      "metadata": {
        "id": "nkfTgDaafpVy"
      }
    },
    {
      "cell_type": "code",
      "source": [
        "import re\n",
        "\n",
        "regex = '[a-zA-z0-9]$'\n",
        "\t\n",
        "string_1 = input(\"Enter the string: \")\n",
        "if(re.search(regex, string)):\n",
        "\tprint(\"Accept\")\n",
        "\t\t\n",
        "else:\n",
        "\tprint(\"Discard\")\n",
        "\n"
      ],
      "metadata": {
        "colab": {
          "base_uri": "https://localhost:8080/"
        },
        "id": "YUGvsHHYftiC",
        "outputId": "f240b49a-9eb2-45b8-feab-ee4ff53e6493"
      },
      "execution_count": 8,
      "outputs": [
        {
          "output_type": "stream",
          "name": "stdout",
          "text": [
            "Enter the string: kbkjhds7\n",
            "Accept\n"
          ]
        }
      ]
    },
    {
      "cell_type": "markdown",
      "source": [
        "Q6.Python Regex – Program to accept string starting with vowel"
      ],
      "metadata": {
        "id": "9LT0wikThDPg"
      }
    },
    {
      "cell_type": "code",
      "source": [
        "import re\n",
        "\n",
        "regex = '^[aeiouAEIOU][A-Za-z0-9_]*'\n",
        "def check(string):\n",
        "\n",
        "\tif(re.search(regex, string)):\n",
        "\t\tprint(\"yes\")\n",
        "\t\t\n",
        "\telse:\n",
        "\t\tprint(\"no\")\n",
        "\t\n",
        "\n",
        "if __name__ == '__main__' :\n",
        "\t\n",
        "\n",
        "\tstring = \"omkar\"\n",
        "\t\n",
        "check(string)\n",
        "\n"
      ],
      "metadata": {
        "colab": {
          "base_uri": "https://localhost:8080/"
        },
        "id": "ezi5C_y-hHFw",
        "outputId": "aeaff2c5-e591-46b8-a341-9223b100a352"
      },
      "execution_count": 9,
      "outputs": [
        {
          "output_type": "stream",
          "name": "stdout",
          "text": [
            "Valid\n"
          ]
        }
      ]
    },
    {
      "cell_type": "markdown",
      "source": [
        "Q7.Python Program to check if a string starts with a substring using regex"
      ],
      "metadata": {
        "id": "0mQsHLkuhnta"
      }
    },
    {
      "cell_type": "code",
      "source": [
        "import re\n",
        "\n",
        "str = 'hello welcome to the class'\n",
        "x = re.search('^hello', str)\n",
        "\n",
        "if(x!=None):\n",
        "\tprint('The line starts with \\'hello\\'.')\n",
        "else:\n",
        "\tprint('The line does not start with \\'hello\\'.')"
      ],
      "metadata": {
        "colab": {
          "base_uri": "https://localhost:8080/"
        },
        "id": "Ii6UnwYuh0nR",
        "outputId": "9fc58f0d-9a14-4de3-c77e-1c6844770e0a"
      },
      "execution_count": 16,
      "outputs": [
        {
          "output_type": "stream",
          "name": "stdout",
          "text": [
            "The line starts with 'hello'.\n"
          ]
        }
      ]
    },
    {
      "cell_type": "markdown",
      "source": [
        "Q8.Python Program to Check if an URL is valid or not using Regular Expression"
      ],
      "metadata": {
        "id": "oc3AbkAoi9m8"
      }
    },
    {
      "cell_type": "code",
      "source": [
        "import re\n",
        "\n",
        "def checkurl(str):\n",
        "\n",
        "\tregex = (\"((http|https)://)(www.)?\" +\n",
        "\t\t\t\"[a-zA-Z0-9@:%._\\\\+~#?&//=]\" +\n",
        "\t\t\t\"{2,256}\\\\.[a-z]\" +\n",
        "\t\t\t\"{2,6}\\\\b([-a-zA-Z0-9@:%\" +\n",
        "\t\t\t\"._\\\\+~#?&//=]*)\")\n",
        "\t\n",
        "\tp = re.compile(regex)\n",
        "\n",
        "\tif (str == None):\n",
        "\t\treturn False\n",
        "\n",
        "\tif(re.search(p, str)):\n",
        "\t\treturn True\n",
        "\telse:\n",
        "\t\treturn False\n",
        "\n",
        "url = \"https://ineuron.ai/\"\n",
        "\n",
        "if(checkurl(url) == True):\n",
        "\tprint(\"Yes\")\n",
        "else:\n",
        "\tprint(\"No\")\n",
        "\n"
      ],
      "metadata": {
        "colab": {
          "base_uri": "https://localhost:8080/"
        },
        "id": "HSb5nRjBjLMI",
        "outputId": "2626e036-96a3-4a50-d01c-fcb72abd58d7"
      },
      "execution_count": 11,
      "outputs": [
        {
          "output_type": "stream",
          "name": "stdout",
          "text": [
            "Yes\n"
          ]
        }
      ]
    },
    {
      "cell_type": "markdown",
      "source": [
        "Q9.Parsing and Processing URL using Python – Regex"
      ],
      "metadata": {
        "id": "WHxXBjp-kB41"
      }
    },
    {
      "cell_type": "code",
      "source": [
        "import re\n",
        "\n",
        "s = 'https://ineuron.ai/'\n",
        "\n",
        "obj1 = re.findall('(\\w+)://',\n",
        "\t\t\t\ts)\n",
        "print(obj1)\n",
        "\n",
        "obj2 = re.findall('://www.([\\w\\-\\.]+)',\n",
        "\t\t\t\ts)\n",
        "print(obj2)\n"
      ],
      "metadata": {
        "colab": {
          "base_uri": "https://localhost:8080/"
        },
        "id": "vQexmFJRkGkc",
        "outputId": "f0cb2b58-1e13-4e76-c432-a65468a78481"
      },
      "execution_count": 12,
      "outputs": [
        {
          "output_type": "stream",
          "name": "stdout",
          "text": [
            "['https']\n",
            "[]\n"
          ]
        }
      ]
    },
    {
      "cell_type": "markdown",
      "source": [
        "10. Python Program to validate an IP address using ReGex"
      ],
      "metadata": {
        "id": "m0-1VL_wkuEC"
      }
    },
    {
      "cell_type": "code",
      "source": [
        "import re \n",
        "  \n",
        "regexIP = '''^(25[0-5]|2[0-4][0-9]|[0-1]?[0-9][0-9]?)\\.( \n",
        "    25[0-5]|2[0-4][0-9]|[0-1]?[0-9][0-9]?)\\.( \n",
        "    25[0-5]|2[0-4][0-9]|[0-1]?[0-9][0-9]?)\\.( \n",
        "    25[0-5]|2[0-4][0-9]|[0-1]?[0-9][0-9]?)'''\n",
        "  \n",
        "def validateIP(strIP): \n",
        "  \n",
        "    if(re.search(regexIP, strIP)):\n",
        "        print(f\"{strIP} is a valid IP address.\") \n",
        "      \n",
        "    else: \n",
        "        print(f\"{strIP} is an invalid IP address.\") \n",
        "  \n",
        "  \n",
        "if __name__ == '__main__' : \n",
        "      \n",
        "    strIP = \"122.134.3.123\"\n",
        "    validateIP(strIP) \n"
      ],
      "metadata": {
        "colab": {
          "base_uri": "https://localhost:8080/"
        },
        "id": "kWpJQEi-ku5I",
        "outputId": "d5795a21-d427-45d9-8ecb-0881b932b27c"
      },
      "execution_count": 13,
      "outputs": [
        {
          "output_type": "stream",
          "name": "stdout",
          "text": [
            "122.134.3.123 is a valid IP address.\n"
          ]
        }
      ]
    }
  ]
}