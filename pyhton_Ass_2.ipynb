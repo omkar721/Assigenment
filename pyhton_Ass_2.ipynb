{
  "nbformat": 4,
  "nbformat_minor": 0,
  "metadata": {
    "colab": {
      "name": "pyhton Ass 2.ipynb",
      "provenance": [],
      "collapsed_sections": []
    },
    "kernelspec": {
      "name": "python3",
      "display_name": "Python 3"
    },
    "language_info": {
      "name": "python"
    }
  },
  "cells": [
    {
      "cell_type": "markdown",
      "source": [
        "1.  Python Program for n-th Fibonacci number"
      ],
      "metadata": {
        "id": "KXpgLBe_VjRq"
      }
    },
    {
      "cell_type": "code",
      "source": [
        "n = int(input(\"Enter the number: \"))\n",
        "a = 0\n",
        "b = 1\n",
        "c = 0\n",
        "i = 3\n",
        "while i<=n:\n",
        "  c = a+b\n",
        "  a = b\n",
        "  b = c\n",
        "  i = i +1\n",
        "print(\"the fibonacchi number is\" , c)\n"
      ],
      "metadata": {
        "colab": {
          "base_uri": "https://localhost:8080/"
        },
        "id": "FxmfKXsYVhsW",
        "outputId": "c1275c6d-81b5-4ba0-b210-7a6bd1d65639"
      },
      "execution_count": 4,
      "outputs": [
        {
          "output_type": "stream",
          "name": "stdout",
          "text": [
            "Enter the number: 7\n",
            "the fibonacchi number is 8\n"
          ]
        }
      ]
    },
    {
      "cell_type": "markdown",
      "source": [
        "\n",
        "Q2. Python Program for How to check if a given number is Fibonacci number?"
      ],
      "metadata": {
        "id": "PVh_PAUwV0iH"
      }
    },
    {
      "cell_type": "code",
      "source": [
        "N = int(input(\"Enter the you want to check: \"))\n",
        "\n",
        "f1 = 0\n",
        "f2 = 1\n",
        "f3 = 0\n",
        "if (N == 0 or N == 1):\n",
        "    print(\"Given number is fibonacci number\")\n",
        " \n",
        "else:\n",
        "    while f3 <N:\n",
        "        f3 = f1 + f2\n",
        "        f2 = f1\n",
        "        f1 = f3\n",
        "    if f3 == N:\n",
        "        print(\"Given number is fibonacci number\")\n",
        "    else:\n",
        "        print(\"No it’s not a fibonacci number\")\n"
      ],
      "metadata": {
        "id": "4gWGAjs2VhwQ"
      },
      "execution_count": null,
      "outputs": []
    },
    {
      "cell_type": "markdown",
      "source": [
        "Q3. Python Program for n\\’th multiple of a number in Fibonacci Series"
      ],
      "metadata": {
        "id": "bJkHnYnodyWG"
      }
    },
    {
      "cell_type": "code",
      "source": [
        " n = 2;\n",
        " k = 3;\n",
        " def findPosition(k, n):\n",
        "    f1 = 0\n",
        "    f2 = 1\n",
        "    i =2;\n",
        "    while i!=0:\n",
        "        f3 = f1 + f2;\n",
        "        f1 = f2;\n",
        "        f2 = f3;\n",
        " \n",
        "        if f2%k == 0:\n",
        "            return n*i\n",
        " \n",
        "        i+=1\n",
        "         \n",
        "    return\n",
        "\n",
        "print(\"Position of n\\'th multiple of k in\"\n",
        "                \"Fibonacci Series is\", findPosition(k,n));    "
      ],
      "metadata": {
        "id": "JUms8MiYVhyO"
      },
      "execution_count": null,
      "outputs": []
    },
    {
      "cell_type": "code",
      "source": [
        ""
      ],
      "metadata": {
        "id": "QOLh5fRDVh2N"
      },
      "execution_count": null,
      "outputs": []
    },
    {
      "cell_type": "markdown",
      "source": [
        "Q4.Program to print ASCII Value of a character"
      ],
      "metadata": {
        "id": "q7zx2dcDe1X3"
      }
    },
    {
      "cell_type": "code",
      "source": [
        "String = str(input(\"Enter the character or value :\"))\n",
        "for c in String :\n",
        "  print(\"The ASCII value is \", ord(c) , end=\" :\")\n"
      ],
      "metadata": {
        "id": "PJC7VPzqe7mH"
      },
      "execution_count": null,
      "outputs": []
    },
    {
      "cell_type": "markdown",
      "source": [
        "Q5. Python Program for Sum of squares of first n natural numbers"
      ],
      "metadata": {
        "id": "EAD8c0HNh3xT"
      }
    },
    {
      "cell_type": "code",
      "source": [
        "n = int(input(\"Enter the number:\"))\n",
        "i = 1\n",
        "sum = 0\n",
        "while i<=n:\n",
        "  sum = sum +(i*i)\n",
        "  i = i +1\n",
        "print(\"The square sum is\" ,sum)"
      ],
      "metadata": {
        "id": "LTJJucpTe7qg"
      },
      "execution_count": null,
      "outputs": []
    },
    {
      "cell_type": "markdown",
      "source": [
        "Q6. Python Program for cube sum of first n natural numbers"
      ],
      "metadata": {
        "id": "tGSqWKqxk3i_"
      }
    },
    {
      "cell_type": "code",
      "source": [
        "n= int(input(\"Enter the number:\"))\n",
        "i = 1\n",
        "sum = 0\n",
        "while i<=n:\n",
        "  sum= sum + i**3\n",
        "  i = i+1\n",
        "print(\"The cube sum is\", sum)\n",
        "\n"
      ],
      "metadata": {
        "id": "UGaBGXgBe7tm"
      },
      "execution_count": null,
      "outputs": []
    },
    {
      "cell_type": "markdown",
      "source": [
        "Q7. Python Program to find sum of array"
      ],
      "metadata": {
        "id": "g-zbsiZ3sS-b"
      }
    },
    {
      "cell_type": "code",
      "source": [
        "arr =[12, 3, 4, 15]\n",
        "ans = sum(arr)\n",
        "print ('Sum of the array is ',ans)\n",
        "\n"
      ],
      "metadata": {
        "id": "FjWkUvQ6e7xQ"
      },
      "execution_count": null,
      "outputs": []
    },
    {
      "cell_type": "markdown",
      "source": [
        "Q8.python program to find largest element in an array"
      ],
      "metadata": {
        "id": "rTydaTXvaMMQ"
      }
    },
    {
      "cell_type": "code",
      "source": [
        "arr = [10,25,12,17,79,53]     \n",
        "    \n",
        "maximum = arr[0]  \n",
        "    \n",
        "for i in range(len(arr)):    \n",
        "   if(arr[i] > maximum):    \n",
        "       maximum = arr[i]   \n",
        "print(\"Largest element in an array is \",maximum) \n"
      ],
      "metadata": {
        "id": "AuKsyhJaaw_b"
      },
      "execution_count": null,
      "outputs": []
    },
    {
      "cell_type": "markdown",
      "source": [
        "Q9. Python Program for array rotation"
      ],
      "metadata": {
        "id": "spPJgfQ8czws"
      }
    },
    {
      "cell_type": "code",
      "source": [
        "arr = [1, 2, 3, 4, 5];  \n",
        "n = 3;    \n",
        "     \n",
        "    \n",
        "print(\"Original array: \");    \n",
        "for i in range(0, len(arr)):    \n",
        "    print(arr[i]),     \n",
        "     \n",
        "    \n",
        "for i in range(0, n):    \n",
        "    \n",
        "    first = arr[0];    \n",
        "        \n",
        "    for j in range(0, len(arr)-1):    \n",
        "           \n",
        "        arr[j] = arr[j+1];    \n",
        "            \n",
        "    \n",
        "    arr[len(arr)-1] = first;    \n",
        "     \n",
        "print();    \n",
        "     \n",
        "    \n",
        "print(\"Array after left rotation: \");    \n",
        "for i in range(0, len(arr)):    \n",
        "    print(arr[i]),    "
      ],
      "metadata": {
        "id": "eLSXxHNQcn_P"
      },
      "execution_count": null,
      "outputs": []
    },
    {
      "cell_type": "markdown",
      "source": [
        "Q10. Python Program for Reversal algorithm for array rotation"
      ],
      "metadata": {
        "id": "1jcwXc3pTLBU"
      }
    },
    {
      "cell_type": "code",
      "source": [
        "def rverseArray(arr, start, end):\n",
        "    while (start < end):\n",
        "        temp = arr[start]\n",
        "        arr[start] = arr[end]\n",
        "        arr[end] = temp\n",
        "        start += 1\n",
        "        end = end-1\n",
        "  \n",
        "\n",
        "def leftRotate(arr, d):\n",
        "    n = len(arr)\n",
        "    rverseArray(arr, 0, d-1)\n",
        "    rverseArray(arr, d, n-1)\n",
        "    rverseArray(arr, 0, n-1)\n",
        "  \n",
        "\n",
        "def printArray(arr):\n",
        "    for i in range(0, len(arr)):\n",
        "        print (arr[i])"
      ],
      "metadata": {
        "id": "xz0JzWOxg3FI"
      },
      "execution_count": null,
      "outputs": []
    },
    {
      "cell_type": "markdown",
      "source": [
        "Q11. python program to split the array and add the first part to the end"
      ],
      "metadata": {
        "id": "anjaRNM7ZBml"
      }
    },
    {
      "cell_type": "code",
      "source": [
        "arr = [12, 38, 16, 42, 36]\n",
        "def SplitArray(arr, n, k):\n",
        "\tfor i in range(0, k):\n",
        "\t\tx = arr[0]\n",
        "\t\tfor j in range(0, n-1):\n",
        "\t\t\tarr[j] = arr[j + 1]\n",
        "\t\t\n",
        "\t\tarr[n-1] = x\t\t\n",
        "n = len(arr)\n",
        "position = 2\n",
        "SplitArray(arr, n, position)\n",
        "for i in range(0, n):\n",
        "\tprint(arr[i], end = ' ')"
      ],
      "metadata": {
        "id": "JO804tRoYkrg"
      },
      "execution_count": null,
      "outputs": []
    }
  ]
}