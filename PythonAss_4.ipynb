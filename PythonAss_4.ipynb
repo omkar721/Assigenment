{
  "nbformat": 4,
  "nbformat_minor": 0,
  "metadata": {
    "colab": {
      "name": "PythonAss_4.ipynb",
      "provenance": []
    },
    "kernelspec": {
      "name": "python3",
      "display_name": "Python 3"
    },
    "language_info": {
      "name": "python"
    }
  },
  "cells": [
    {
      "cell_type": "markdown",
      "source": [
        "Q1. python program to find smallest number in a list"
      ],
      "metadata": {
        "id": "_vhvk5DW265D"
      }
    },
    {
      "cell_type": "code",
      "execution_count": 1,
      "metadata": {
        "colab": {
          "base_uri": "https://localhost:8080/"
        },
        "id": "mxyw2Jf_3Hp4",
        "outputId": "a8e30e69-b4f3-4f30-e52a-555025c8b0d9"
      },
      "outputs": [
        {
          "output_type": "stream",
          "name": "stdout",
          "text": [
            "The smallest number in the list is : 10\n"
          ]
        }
      ],
      "source": [
        "list = [10,20,30,40,50]\n",
        "\n",
        "print(\"The smallest number in the list is :\", min(list))"
      ]
    },
    {
      "cell_type": "markdown",
      "source": [
        "Q2. Python program to find largest number in a list"
      ],
      "metadata": {
        "id": "EIhHO1Ko3zBJ"
      }
    },
    {
      "cell_type": "code",
      "execution_count": 2,
      "metadata": {
        "id": "y9c14e3u257P",
        "colab": {
          "base_uri": "https://localhost:8080/"
        },
        "outputId": "5dc776cc-2c50-45b0-cae1-076e1a600104"
      },
      "outputs": [
        {
          "output_type": "stream",
          "name": "stdout",
          "text": [
            "The largest number in the list is: 609\n"
          ]
        }
      ],
      "source": [
        "list = [50,609,96,40,50]\n",
        "\n",
        "print(\"The largest number in the list is:\", max(list))"
      ]
    },
    {
      "cell_type": "markdown",
      "source": [
        "Q3.Python program to find second largest number in a list"
      ],
      "metadata": {
        "id": "eB-654FK4N2R"
      }
    },
    {
      "cell_type": "code",
      "source": [
        "list = [50,609,96,40,50]\n",
        "\n",
        "list.sort()\n",
        "print(\"The second largest number in the list is: \", list[-2])"
      ],
      "metadata": {
        "colab": {
          "base_uri": "https://localhost:8080/"
        },
        "id": "zvTXP-PP4TuM",
        "outputId": "8fcfa3e8-d53f-4a2e-bf6c-e4c503bb82ec"
      },
      "execution_count": 5,
      "outputs": [
        {
          "output_type": "stream",
          "name": "stdout",
          "text": [
            "The second largest number in the list is:  96\n"
          ]
        }
      ]
    },
    {
      "cell_type": "markdown",
      "source": [
        "Q4. Python program to find N largest elements from a list"
      ],
      "metadata": {
        "id": "YGpT12Dc5Izt"
      }
    },
    {
      "cell_type": "code",
      "source": [
        "list = [100,256,23,45,95,75]\n",
        "n = 3\n",
        "list.sort()\n",
        "print(list[-n:])"
      ],
      "metadata": {
        "id": "xm5hl6ra4-KE"
      },
      "execution_count": null,
      "outputs": []
    },
    {
      "cell_type": "markdown",
      "source": [
        "Q5. Python program to print even numbers in a list"
      ],
      "metadata": {
        "id": "s9eKgTqX6MRC"
      }
    },
    {
      "cell_type": "code",
      "source": [
        "list = [10, 21, 4, 45, 66, 44]\n",
        "\n",
        "for i in list:\n",
        "  if i%2 ==0:\n",
        "    print(\"The even numbers in the list: \", i)"
      ],
      "metadata": {
        "id": "TCoEfyKv6VKo"
      },
      "execution_count": null,
      "outputs": []
    },
    {
      "cell_type": "markdown",
      "source": [
        "Q6. Python program to print odd numbers in a List"
      ],
      "metadata": {
        "id": "nLE8IVls-4qD"
      }
    },
    {
      "cell_type": "code",
      "source": [
        "list = [10, 21, 4, 45, 66, 44]\n",
        "\n",
        "for i in list:\n",
        "  if i%2 !=0:\n",
        "    print(i, end = ',')"
      ],
      "metadata": {
        "id": "Umaf75Tc-QDd"
      },
      "execution_count": null,
      "outputs": []
    },
    {
      "cell_type": "markdown",
      "source": [
        "Q7. Python program to print all even numbers in a range"
      ],
      "metadata": {
        "id": "lhRzmUeR6MZF"
      }
    },
    {
      "cell_type": "code",
      "source": [
        "start = int(input(\"Enter the starting range : \"))\n",
        "end = int(input(\"Enter the end of range : \"))\n",
        " \n",
        "\n",
        "for i in range(start , end + 1):\n",
        "    if i % 2 == 0:\n",
        "        print(i , end = \" \")"
      ],
      "metadata": {
        "id": "O3VHbhkoATrg"
      },
      "execution_count": null,
      "outputs": []
    },
    {
      "cell_type": "markdown",
      "source": [
        "Q8. Python program to print all odd numbers in a range"
      ],
      "metadata": {
        "id": "lJkuJzNdBCIo"
      }
    },
    {
      "cell_type": "code",
      "source": [
        "strat = int(input(\"Enter the first number : \" ))\n",
        "end = int(input(\"Enter the end of range :\")) \n",
        "\n",
        "for i in range(strat , end +1 ):\n",
        "  if i%2 !=0:\n",
        "    print(i , end = \" \" )"
      ],
      "metadata": {
        "id": "3ODv6BAJBHdm"
      },
      "execution_count": null,
      "outputs": []
    },
    {
      "cell_type": "markdown",
      "source": [
        "Q9. Python program to print positive numbers in a list"
      ],
      "metadata": {
        "id": "_63VXKcfCMkN"
      }
    },
    {
      "cell_type": "code",
      "source": [
        "list = [12,2,-4,-6,14]\n",
        "\n",
        "for i in list:\n",
        "  if i>=0:\n",
        "    print(\"The even numbers are: \",i ,end=\" \\n \" )"
      ],
      "metadata": {
        "id": "xPYTZ2lICSdO"
      },
      "execution_count": null,
      "outputs": []
    },
    {
      "cell_type": "markdown",
      "source": [
        "Q10. Python program to print negative numbers in a list"
      ],
      "metadata": {
        "id": "RO3uXnbKDr20"
      }
    },
    {
      "cell_type": "code",
      "source": [
        "list = [12,2,-4,-6,14]\n",
        "\n",
        "for i in list:\n",
        "  if i<=0:\n",
        "      print(\"The negative numbers in the list: \",i , end = \" \\n \")"
      ],
      "metadata": {
        "id": "4Jyid3VLDwkL"
      },
      "execution_count": null,
      "outputs": []
    },
    {
      "cell_type": "markdown",
      "source": [
        "Q11. Python program to print all positive numbers in a range"
      ],
      "metadata": {
        "id": "Ry6issl3FMOe"
      }
    },
    {
      "cell_type": "code",
      "source": [
        "start = int(input(\"Enter the starting range: \"))\n",
        "end = int(input(\"Enter the ending range: \"))\n",
        "\n",
        "for i in range(start, end +1):\n",
        "  if i>=0:\n",
        "    print(\"The positive numbers in given range are:\" , i)"
      ],
      "metadata": {
        "id": "D2hQSSRNFUan"
      },
      "execution_count": null,
      "outputs": []
    }
  ]
}