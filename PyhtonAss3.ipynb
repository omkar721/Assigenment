{
  "nbformat": 4,
  "nbformat_minor": 0,
  "metadata": {
    "colab": {
      "name": "PyhtonAss3.ipynb",
      "provenance": []
    },
    "kernelspec": {
      "name": "python3",
      "display_name": "Python 3"
    },
    "language_info": {
      "name": "python"
    }
  },
  "cells": [
    {
      "cell_type": "markdown",
      "source": [
        "Q1. Python Program for Find reminder of array multiplication divided by n"
      ],
      "metadata": {
        "id": "EXEKLYciaX3c"
      }
    },
    {
      "cell_type": "code",
      "source": [
        "def findremainder(arr, lens, n):\n",
        "    multiple = 1\n",
        " \n",
        " \n",
        "    for i in range(lens): \n",
        "        multiple = (multiple * (arr[i] % n)) % n\n",
        "     \n",
        "    return multiple % n\n",
        " \n",
        "\n",
        "arr = [ 5,7,2,1 ]\n",
        "lens = len(arr)\n",
        "n = 4\n",
        " \n",
        "\n",
        "print( findremainder(arr, lens, n))"
      ],
      "metadata": {
        "id": "IGzbeT_faoha"
      },
      "execution_count": null,
      "outputs": []
    },
    {
      "cell_type": "markdown",
      "source": [
        "Q2. Python Program to check if given array is Monotonic"
      ],
      "metadata": {
        "id": "CjqHkrbmeMwW"
      }
    },
    {
      "cell_type": "code",
      "source": [
        "def isMonotonic(A):\n",
        "  \n",
        "    return (all(A[i] <= A[i + 1] for i in range(len(A) - 1)) or\n",
        "            all(A[i] >= A[i + 1] for i in range(len(A) - 1)))\n",
        "  \n",
        "\n",
        "A = [1, 2, 3, 4]\n",
        "  \n",
        "\n",
        "print(isMonotonic(A))"
      ],
      "metadata": {
        "colab": {
          "base_uri": "https://localhost:8080/"
        },
        "id": "_B-l9JHieIz9",
        "outputId": "8f3420a8-e99f-472c-d708-ecaac359f9dc"
      },
      "execution_count": null,
      "outputs": [
        {
          "output_type": "stream",
          "name": "stdout",
          "text": [
            "True\n"
          ]
        }
      ]
    },
    {
      "cell_type": "markdown",
      "source": [
        "Q3. Python program to interchange first and last elements in a list"
      ],
      "metadata": {
        "id": "NG21S6TGjRRV"
      }
    },
    {
      "cell_type": "code",
      "source": [
        "list =[1,2,3,4,5,6,7,8]\n",
        "\n",
        "length  = len(list)\n",
        "temp = list[0]\n",
        "list[0] = list[-1]\n",
        "list[-1] = temp\n",
        "print(list)\n"
      ],
      "metadata": {
        "id": "Wchr9JdNhQoe"
      },
      "execution_count": null,
      "outputs": []
    },
    {
      "cell_type": "markdown",
      "source": [
        "Q4. Python program to swap two elements in a list"
      ],
      "metadata": {
        "id": "yaISPPhAr_Qp"
      }
    },
    {
      "cell_type": "code",
      "source": [
        "list = [1,2,3,4,5,6]\n",
        "\n",
        "length = len(list)\n",
        "temp = list[0]\n",
        "list[0] = list[-3]\n",
        "list[-3] = temp\n",
        "print(list)"
      ],
      "metadata": {
        "id": "izOc1hRnskeL"
      },
      "execution_count": null,
      "outputs": []
    },
    {
      "cell_type": "markdown",
      "source": [
        "Q5. write a program to find length of list"
      ],
      "metadata": {
        "id": "EKzVI30CtSJG"
      }
    },
    {
      "cell_type": "code",
      "source": [
        "list = [1,2,3,4,5,6,7]\n",
        "\n",
        "n = len(list)\n",
        "print(\"The length of a list is :\" , n)"
      ],
      "metadata": {
        "id": "UMbDOWlOtcH-"
      },
      "execution_count": null,
      "outputs": []
    },
    {
      "cell_type": "markdown",
      "source": [
        "Q6. write a program to check if element exists in list"
      ],
      "metadata": {
        "id": "o6opppt8uQAW"
      }
    },
    {
      "cell_type": "code",
      "source": [
        "list_1 = [1,2,3,4,5,6,7]\n",
        "\n",
        "print(\"the given list is:\" ,list_1)\n",
        "\n",
        "if 7 in list_1:\n",
        "  print(\" 7 is present in the given list\")\n",
        "else:\n",
        "  print(\" 7 is absent in the given list\")  "
      ],
      "metadata": {
        "id": "lCDL5PvpuRCj"
      },
      "execution_count": null,
      "outputs": []
    },
    {
      "cell_type": "markdown",
      "source": [
        "Q7. write a program to clear a list in Python"
      ],
      "metadata": {
        "id": "VSmftcyzvwv_"
      }
    },
    {
      "cell_type": "code",
      "source": [
        "list_2 = [1,2,3,4,5,6,7]\n",
        "\n",
        "print(\"My privious list is:\" , list_2)\n",
        "\n",
        "list_2.clear()\n",
        "print(\"My new list:\" , list_2)"
      ],
      "metadata": {
        "id": "oc-TqK9Swe7f"
      },
      "execution_count": null,
      "outputs": []
    },
    {
      "cell_type": "markdown",
      "source": [
        "Q8. write a program to Reversing a List"
      ],
      "metadata": {
        "id": "4FsPltkexXQV"
      }
    },
    {
      "cell_type": "code",
      "source": [
        "list_3 = [1,2,3,4,5,6,7]\n",
        "\n",
        "l = []\n",
        "\n",
        "for i in list_3:\n",
        "  l.insert(0,i)\n",
        "\n",
        "print(\"The reverse list is: \" , l)  "
      ],
      "metadata": {
        "id": "nmtnnMa_yLgE"
      },
      "execution_count": null,
      "outputs": []
    },
    {
      "cell_type": "markdown",
      "source": [
        "Q9. write a program to find sum of elements in list"
      ],
      "metadata": {
        "id": "t6vwWSEyy4Ls"
      }
    },
    {
      "cell_type": "code",
      "source": [
        "list = [1,2,3,4,5]\n",
        "\n",
        "print(\"The sum of a given list is : \" ,sum(list))\n"
      ],
      "metadata": {
        "id": "PZ-cueqZy9Gc"
      },
      "execution_count": null,
      "outputs": []
    },
    {
      "cell_type": "markdown",
      "source": [
        "Q10. write a program to Multiply all numbers in the list"
      ],
      "metadata": {
        "id": "4XnoGiQPzW5Y"
      }
    },
    {
      "cell_type": "code",
      "source": [
        "list = [1,2,3,4,5,6,7,8]\n",
        "m = 1\n",
        "for i in list:\n",
        "     m = m*i\n",
        "print(m)"
      ],
      "metadata": {
        "colab": {
          "base_uri": "https://localhost:8080/"
        },
        "id": "nL2GkIB1zdEf",
        "outputId": "1efacc21-9ba3-42a5-b28e-3828da977024"
      },
      "execution_count": 2,
      "outputs": [
        {
          "output_type": "stream",
          "name": "stdout",
          "text": [
            "40320\n"
          ]
        }
      ]
    }
  ]
}